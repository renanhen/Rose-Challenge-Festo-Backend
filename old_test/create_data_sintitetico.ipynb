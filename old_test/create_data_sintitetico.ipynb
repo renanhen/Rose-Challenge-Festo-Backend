{
 "cells": [
  {
   "cell_type": "code",
   "execution_count": 2,
   "id": "77978bd6",
   "metadata": {},
   "outputs": [],
   "source": [
    "import pandas as pd\n",
    "import matplotlib.pyplot as plt\n",
    "import seaborn as sns \n",
    "import sklearn \n",
    "import random as rd \n",
    "import numpy as np\n",
    "import plotly.express as px"
   ]
  },
  {
   "cell_type": "code",
   "execution_count": 3,
   "id": "542738a2",
   "metadata": {},
   "outputs": [
    {
     "data": {
      "text/html": [
       "<div>\n",
       "<style scoped>\n",
       "    .dataframe tbody tr th:only-of-type {\n",
       "        vertical-align: middle;\n",
       "    }\n",
       "\n",
       "    .dataframe tbody tr th {\n",
       "        vertical-align: top;\n",
       "    }\n",
       "\n",
       "    .dataframe thead th {\n",
       "        text-align: right;\n",
       "    }\n",
       "</style>\n",
       "<table border=\"1\" class=\"dataframe\">\n",
       "  <thead>\n",
       "    <tr style=\"text-align: right;\">\n",
       "      <th></th>\n",
       "      <th>tipo_valvula</th>\n",
       "      <th>funcao_valvula</th>\n",
       "      <th>atuacao</th>\n",
       "      <th>pressao_operacao_bar</th>\n",
       "      <th>pressao_piloto_bar</th>\n",
       "      <th>temperatura_ambiente_C</th>\n",
       "      <th>tempo_acionamento_ms</th>\n",
       "      <th>frequencia_comutacao_Hz</th>\n",
       "      <th>vazao_l_min</th>\n",
       "      <th>tamanho_conexao</th>\n",
       "      <th>vedacao</th>\n",
       "      <th>piloto_interno</th>\n",
       "      <th>bobina_festool</th>\n",
       "      <th>ligacao_eletrica_ok</th>\n",
       "      <th>manutencao_realizada</th>\n",
       "    </tr>\n",
       "  </thead>\n",
       "  <tbody>\n",
       "    <tr>\n",
       "      <th>0</th>\n",
       "      <td>JMFH-5</td>\n",
       "      <td>5/2-way</td>\n",
       "      <td>Elétrica</td>\n",
       "      <td>8.60</td>\n",
       "      <td>0.66</td>\n",
       "      <td>27.9</td>\n",
       "      <td>58.065002</td>\n",
       "      <td>8.4</td>\n",
       "      <td>4500</td>\n",
       "      <td>G1/4</td>\n",
       "      <td>Soft</td>\n",
       "      <td>True</td>\n",
       "      <td>True</td>\n",
       "      <td>True</td>\n",
       "      <td>False</td>\n",
       "    </tr>\n",
       "    <tr>\n",
       "      <th>1</th>\n",
       "      <td>VL/O-3</td>\n",
       "      <td>5/2-way</td>\n",
       "      <td>Pneumática</td>\n",
       "      <td>0.87</td>\n",
       "      <td>5.60</td>\n",
       "      <td>-10.7</td>\n",
       "      <td>20.591719</td>\n",
       "      <td>29.4</td>\n",
       "      <td>1000</td>\n",
       "      <td>G3/4</td>\n",
       "      <td>Soft</td>\n",
       "      <td>False</td>\n",
       "      <td>True</td>\n",
       "      <td>True</td>\n",
       "      <td>True</td>\n",
       "    </tr>\n",
       "    <tr>\n",
       "      <th>2</th>\n",
       "      <td>MOFH-3</td>\n",
       "      <td>5/2-way</td>\n",
       "      <td>Elétrica</td>\n",
       "      <td>0.86</td>\n",
       "      <td>8.83</td>\n",
       "      <td>-4.5</td>\n",
       "      <td>41.673291</td>\n",
       "      <td>29.1</td>\n",
       "      <td>500</td>\n",
       "      <td>G1/2</td>\n",
       "      <td>Soft</td>\n",
       "      <td>False</td>\n",
       "      <td>True</td>\n",
       "      <td>True</td>\n",
       "      <td>False</td>\n",
       "    </tr>\n",
       "    <tr>\n",
       "      <th>3</th>\n",
       "      <td>VL/O-3</td>\n",
       "      <td>5/2-way</td>\n",
       "      <td>Pneumática</td>\n",
       "      <td>0.15</td>\n",
       "      <td>1.71</td>\n",
       "      <td>31.1</td>\n",
       "      <td>106.673100</td>\n",
       "      <td>9.1</td>\n",
       "      <td>500</td>\n",
       "      <td>G1/8</td>\n",
       "      <td>Soft</td>\n",
       "      <td>True</td>\n",
       "      <td>True</td>\n",
       "      <td>True</td>\n",
       "      <td>False</td>\n",
       "    </tr>\n",
       "    <tr>\n",
       "      <th>4</th>\n",
       "      <td>VL/O-3</td>\n",
       "      <td>5/2-way</td>\n",
       "      <td>Elétrica</td>\n",
       "      <td>11.48</td>\n",
       "      <td>7.13</td>\n",
       "      <td>6.7</td>\n",
       "      <td>23.000000</td>\n",
       "      <td>12.5</td>\n",
       "      <td>800</td>\n",
       "      <td>G1/8</td>\n",
       "      <td>Soft</td>\n",
       "      <td>False</td>\n",
       "      <td>True</td>\n",
       "      <td>True</td>\n",
       "      <td>True</td>\n",
       "    </tr>\n",
       "  </tbody>\n",
       "</table>\n",
       "</div>"
      ],
      "text/plain": [
       "  tipo_valvula funcao_valvula     atuacao  pressao_operacao_bar  \\\n",
       "0       JMFH-5        5/2-way    Elétrica                  8.60   \n",
       "1       VL/O-3        5/2-way  Pneumática                  0.87   \n",
       "2       MOFH-3        5/2-way    Elétrica                  0.86   \n",
       "3       VL/O-3        5/2-way  Pneumática                  0.15   \n",
       "4       VL/O-3        5/2-way    Elétrica                 11.48   \n",
       "\n",
       "   pressao_piloto_bar  temperatura_ambiente_C  tempo_acionamento_ms  \\\n",
       "0                0.66                    27.9             58.065002   \n",
       "1                5.60                   -10.7             20.591719   \n",
       "2                8.83                    -4.5             41.673291   \n",
       "3                1.71                    31.1            106.673100   \n",
       "4                7.13                     6.7             23.000000   \n",
       "\n",
       "   frequencia_comutacao_Hz  vazao_l_min tamanho_conexao vedacao  \\\n",
       "0                      8.4         4500            G1/4    Soft   \n",
       "1                     29.4         1000            G3/4    Soft   \n",
       "2                     29.1          500            G1/2    Soft   \n",
       "3                      9.1          500            G1/8    Soft   \n",
       "4                     12.5          800            G1/8    Soft   \n",
       "\n",
       "   piloto_interno  bobina_festool  ligacao_eletrica_ok  manutencao_realizada  \n",
       "0            True            True                 True                 False  \n",
       "1           False            True                 True                  True  \n",
       "2           False            True                 True                 False  \n",
       "3            True            True                 True                 False  \n",
       "4           False            True                 True                  True  "
      ]
     },
     "execution_count": 3,
     "metadata": {},
     "output_type": "execute_result"
    }
   ],
   "source": [
    "\n",
    "# Tamanho do dataset\n",
    "n = 1000\n",
    "np.random.seed(42)\n",
    "\n",
    "# Etapa 1: Geração básica dos dados\n",
    "df = pd.DataFrame({\n",
    "    'tipo_valvula': np.random.choice(['MFH-3', 'MFH-5', 'MOFH-3', 'JMFH-5', 'VL/O-3'], size=n),\n",
    "    'funcao_valvula': np.random.choice(['3/2-way', '5/2-way'], size=n),\n",
    "    'atuacao': np.random.choice(['Elétrica', 'Pneumática'], size=n),\n",
    "    'pressao_operacao_bar': np.round(np.random.uniform(0.0, 12.0, size=n), 2),\n",
    "    'pressao_piloto_bar': np.round(np.random.uniform(0.0, 9.0, size=n), 2),\n",
    "    'temperatura_ambiente_C': np.round(np.random.uniform(-20, 70, size=n), 1),\n",
    "    'tempo_acionamento_ms': np.round(np.random.uniform(5, 150, size=n), 1),\n",
    "    'frequencia_comutacao_Hz': np.round(np.random.uniform(5, 30, size=n), 1),\n",
    "    'vazao_l_min': np.random.choice([500, 800, 1000, 3700, 4500, 7500], size=n),\n",
    "    'tamanho_conexao': np.random.choice(['G1/8', 'G1/4', 'G1/2', 'G3/4'], size=n),\n",
    "    'vedacao': 'Soft',\n",
    "    'piloto_interno': np.random.choice([True, False], size=n),\n",
    "    'bobina_festool': np.random.choice([True, False], size=n),\n",
    "    'ligacao_eletrica_ok': np.random.choice([True, False], size=n),\n",
    "    'manutencao_realizada': np.random.choice([True, False], size=n),\n",
    "})\n",
    "\n",
    "# Etapa 2: Ajustes para manter coerência lógica\n",
    "\n",
    "# 1. Se a válvula for elétrica, ela precisa ter bobina e ligação elétrica\n",
    "df.loc[df['atuacao'] == 'Elétrica', 'bobina_festool'] = True\n",
    "df.loc[df['atuacao'] == 'Elétrica', 'ligacao_eletrica_ok'] = True\n",
    "\n",
    "# 2. Se a temperatura for < -10 ou > 60, aumenta o tempo de acionamento\n",
    "cond_temp_extrema = (df['temperatura_ambiente_C'] < -10) | (df['temperatura_ambiente_C'] > 60)\n",
    "df.loc[cond_temp_extrema, 'tempo_acionamento_ms'] += np.random.uniform(10, 40, size=cond_temp_extrema.sum())\n",
    "\n",
    "# 3. Frequência muito alta exige tempo de acionamento mais baixo\n",
    "cond_freq_alta = df['frequencia_comutacao_Hz'] > 25\n",
    "df.loc[cond_freq_alta, 'tempo_acionamento_ms'] = np.minimum(\n",
    "    df.loc[cond_freq_alta, 'tempo_acionamento_ms'], np.random.uniform(5, 40, size=cond_freq_alta.sum())\n",
    ")\n",
    "\n",
    "# 4. Se não houve manutenção, chance maior de tempo de acionamento elevado\n",
    "cond_sem_manutencao = df['manutencao_realizada'] == False\n",
    "df.loc[cond_sem_manutencao, 'tempo_acionamento_ms'] += np.random.uniform(5, 30, size=cond_sem_manutencao.sum())\n",
    "\n",
    "# 5. Pressões muito baixas (<0.1 bar) são mais prováveis em válvulas pneumáticas\n",
    "df.loc[df['atuacao'] == 'Pneumática', 'pressao_piloto_bar'] = np.maximum(\n",
    "    df.loc[df['atuacao'] == 'Pneumática', 'pressao_piloto_bar'], 0.1\n",
    ")\n",
    "\n",
    "df.head()\n"
   ]
  },
  {
   "cell_type": "code",
   "execution_count": 4,
   "id": "6d5a3899",
   "metadata": {},
   "outputs": [],
   "source": [
    "# Adiciona a coluna de falha com base em regras técnicas\n",
    "df['falha'] = (\n",
    "    (df['temperatura_ambiente_C'] > 60) |\n",
    "    (df['temperatura_ambiente_C'] < -10) |\n",
    "    (df['pressao_operacao_bar'] < 0.1) |\n",
    "    (df['pressao_operacao_bar'] > 10) |\n",
    "    (df['pressao_piloto_bar'] < 0.1) |\n",
    "    (df['pressao_piloto_bar'] > 8) |\n",
    "    (df['tempo_acionamento_ms'] > 100) |\n",
    "    (df['frequencia_comutacao_Hz'] > 25) |\n",
    "    (~df['ligacao_eletrica_ok'] & (df['atuacao'] == 'Elétrica')) |\n",
    "    (~df['bobina_festool'] & (df['atuacao'] == 'Elétrica')) |\n",
    "    (~df['manutencao_realizada'] & (df['tempo_acionamento_ms'] > 90))\n",
    ").astype(int)\n"
   ]
  },
  {
   "cell_type": "code",
   "execution_count": 5,
   "id": "1c40f93d",
   "metadata": {},
   "outputs": [
    {
     "data": {
      "text/html": [
       "<div>\n",
       "<style scoped>\n",
       "    .dataframe tbody tr th:only-of-type {\n",
       "        vertical-align: middle;\n",
       "    }\n",
       "\n",
       "    .dataframe tbody tr th {\n",
       "        vertical-align: top;\n",
       "    }\n",
       "\n",
       "    .dataframe thead th {\n",
       "        text-align: right;\n",
       "    }\n",
       "</style>\n",
       "<table border=\"1\" class=\"dataframe\">\n",
       "  <thead>\n",
       "    <tr style=\"text-align: right;\">\n",
       "      <th></th>\n",
       "      <th>tipo_valvula</th>\n",
       "      <th>funcao_valvula</th>\n",
       "      <th>atuacao</th>\n",
       "      <th>pressao_operacao_bar</th>\n",
       "      <th>pressao_piloto_bar</th>\n",
       "      <th>temperatura_ambiente_C</th>\n",
       "      <th>tempo_acionamento_ms</th>\n",
       "      <th>frequencia_comutacao_Hz</th>\n",
       "      <th>vazao_l_min</th>\n",
       "      <th>tamanho_conexao</th>\n",
       "      <th>vedacao</th>\n",
       "      <th>piloto_interno</th>\n",
       "      <th>bobina_festool</th>\n",
       "      <th>ligacao_eletrica_ok</th>\n",
       "      <th>manutencao_realizada</th>\n",
       "      <th>falha</th>\n",
       "    </tr>\n",
       "  </thead>\n",
       "  <tbody>\n",
       "    <tr>\n",
       "      <th>0</th>\n",
       "      <td>JMFH-5</td>\n",
       "      <td>5/2-way</td>\n",
       "      <td>Elétrica</td>\n",
       "      <td>8.60</td>\n",
       "      <td>0.66</td>\n",
       "      <td>27.9</td>\n",
       "      <td>58.065002</td>\n",
       "      <td>8.4</td>\n",
       "      <td>4500</td>\n",
       "      <td>G1/4</td>\n",
       "      <td>Soft</td>\n",
       "      <td>True</td>\n",
       "      <td>True</td>\n",
       "      <td>True</td>\n",
       "      <td>False</td>\n",
       "      <td>0</td>\n",
       "    </tr>\n",
       "    <tr>\n",
       "      <th>1</th>\n",
       "      <td>VL/O-3</td>\n",
       "      <td>5/2-way</td>\n",
       "      <td>Pneumática</td>\n",
       "      <td>0.87</td>\n",
       "      <td>5.60</td>\n",
       "      <td>-10.7</td>\n",
       "      <td>20.591719</td>\n",
       "      <td>29.4</td>\n",
       "      <td>1000</td>\n",
       "      <td>G3/4</td>\n",
       "      <td>Soft</td>\n",
       "      <td>False</td>\n",
       "      <td>True</td>\n",
       "      <td>True</td>\n",
       "      <td>True</td>\n",
       "      <td>1</td>\n",
       "    </tr>\n",
       "    <tr>\n",
       "      <th>2</th>\n",
       "      <td>MOFH-3</td>\n",
       "      <td>5/2-way</td>\n",
       "      <td>Elétrica</td>\n",
       "      <td>0.86</td>\n",
       "      <td>8.83</td>\n",
       "      <td>-4.5</td>\n",
       "      <td>41.673291</td>\n",
       "      <td>29.1</td>\n",
       "      <td>500</td>\n",
       "      <td>G1/2</td>\n",
       "      <td>Soft</td>\n",
       "      <td>False</td>\n",
       "      <td>True</td>\n",
       "      <td>True</td>\n",
       "      <td>False</td>\n",
       "      <td>1</td>\n",
       "    </tr>\n",
       "    <tr>\n",
       "      <th>3</th>\n",
       "      <td>VL/O-3</td>\n",
       "      <td>5/2-way</td>\n",
       "      <td>Pneumática</td>\n",
       "      <td>0.15</td>\n",
       "      <td>1.71</td>\n",
       "      <td>31.1</td>\n",
       "      <td>106.673100</td>\n",
       "      <td>9.1</td>\n",
       "      <td>500</td>\n",
       "      <td>G1/8</td>\n",
       "      <td>Soft</td>\n",
       "      <td>True</td>\n",
       "      <td>True</td>\n",
       "      <td>True</td>\n",
       "      <td>False</td>\n",
       "      <td>1</td>\n",
       "    </tr>\n",
       "    <tr>\n",
       "      <th>4</th>\n",
       "      <td>VL/O-3</td>\n",
       "      <td>5/2-way</td>\n",
       "      <td>Elétrica</td>\n",
       "      <td>11.48</td>\n",
       "      <td>7.13</td>\n",
       "      <td>6.7</td>\n",
       "      <td>23.000000</td>\n",
       "      <td>12.5</td>\n",
       "      <td>800</td>\n",
       "      <td>G1/8</td>\n",
       "      <td>Soft</td>\n",
       "      <td>False</td>\n",
       "      <td>True</td>\n",
       "      <td>True</td>\n",
       "      <td>True</td>\n",
       "      <td>1</td>\n",
       "    </tr>\n",
       "  </tbody>\n",
       "</table>\n",
       "</div>"
      ],
      "text/plain": [
       "  tipo_valvula funcao_valvula     atuacao  pressao_operacao_bar  \\\n",
       "0       JMFH-5        5/2-way    Elétrica                  8.60   \n",
       "1       VL/O-3        5/2-way  Pneumática                  0.87   \n",
       "2       MOFH-3        5/2-way    Elétrica                  0.86   \n",
       "3       VL/O-3        5/2-way  Pneumática                  0.15   \n",
       "4       VL/O-3        5/2-way    Elétrica                 11.48   \n",
       "\n",
       "   pressao_piloto_bar  temperatura_ambiente_C  tempo_acionamento_ms  \\\n",
       "0                0.66                    27.9             58.065002   \n",
       "1                5.60                   -10.7             20.591719   \n",
       "2                8.83                    -4.5             41.673291   \n",
       "3                1.71                    31.1            106.673100   \n",
       "4                7.13                     6.7             23.000000   \n",
       "\n",
       "   frequencia_comutacao_Hz  vazao_l_min tamanho_conexao vedacao  \\\n",
       "0                      8.4         4500            G1/4    Soft   \n",
       "1                     29.4         1000            G3/4    Soft   \n",
       "2                     29.1          500            G1/2    Soft   \n",
       "3                      9.1          500            G1/8    Soft   \n",
       "4                     12.5          800            G1/8    Soft   \n",
       "\n",
       "   piloto_interno  bobina_festool  ligacao_eletrica_ok  manutencao_realizada  \\\n",
       "0            True            True                 True                 False   \n",
       "1           False            True                 True                  True   \n",
       "2           False            True                 True                 False   \n",
       "3            True            True                 True                 False   \n",
       "4           False            True                 True                  True   \n",
       "\n",
       "   falha  \n",
       "0      0  \n",
       "1      1  \n",
       "2      1  \n",
       "3      1  \n",
       "4      1  "
      ]
     },
     "execution_count": 5,
     "metadata": {},
     "output_type": "execute_result"
    }
   ],
   "source": [
    "df.head()"
   ]
  },
  {
   "cell_type": "code",
   "execution_count": 6,
   "id": "1bbbe00e",
   "metadata": {},
   "outputs": [],
   "source": [
    "import pandas as pd\n",
    "import numpy as np\n",
    "\n",
    "n_extra = 9000\n",
    "np.random.seed(123)\n",
    "\n",
    "df_extra = pd.DataFrame({\n",
    "    'tipo_valvula': np.random.choice(['MFH-3', 'MFH-5', 'MOFH-3', 'JMFH-5', 'VL/O-3'], size=n_extra),\n",
    "    'funcao_valvula': np.random.choice(['3/2-way', '5/2-way'], size=n_extra),\n",
    "    'atuacao': np.random.choice(['Elétrica', 'Pneumática'], size=n_extra),\n",
    "    'pressao_operacao_bar': np.round(np.random.uniform(1.0, 9.5, size=n_extra), 2),\n",
    "    'pressao_piloto_bar': np.round(np.random.uniform(0.2, 7.9, size=n_extra), 2),\n",
    "    'temperatura_ambiente_C': np.round(np.random.uniform(-5, 40, size=n_extra), 1),\n",
    "    'tempo_acionamento_ms': np.round(np.random.uniform(5, 80, size=n_extra), 1),\n",
    "    'frequencia_comutacao_Hz': np.round(np.random.uniform(5, 24.9, size=n_extra), 1),\n",
    "    'vazao_l_min': np.random.choice([500, 800, 1000, 3700, 4500, 7500], size=n_extra),\n",
    "    'tamanho_conexao': np.random.choice(['G1/8', 'G1/4', 'G1/2', 'G3/4'], size=n_extra),\n",
    "    'vedacao': 'Soft',\n",
    "    'piloto_interno': np.random.choice([True, False], size=n_extra),\n",
    "    'bobina_festool': True,  # garantir válvula elétrica válida\n",
    "    'ligacao_eletrica_ok': True,\n",
    "    'manutencao_realizada': True\n",
    "})\n",
    "\n",
    "df_extra['falha'] = 0  # todas são saudáveis\n",
    "\n",
    "# Se quiser juntar com o seu dataset original:\n",
    "df_total = pd.concat([df, df_extra], ignore_index=True)\n",
    "\n"
   ]
  },
  {
   "cell_type": "code",
   "execution_count": 7,
   "id": "1531d153",
   "metadata": {},
   "outputs": [
    {
     "data": {
      "text/plain": [
       "falha\n",
       "1    725\n",
       "0    275\n",
       "Name: count, dtype: int64"
      ]
     },
     "execution_count": 7,
     "metadata": {},
     "output_type": "execute_result"
    }
   ],
   "source": [
    "df[\"falha\"].value_counts()"
   ]
  },
  {
   "cell_type": "code",
   "execution_count": 8,
   "id": "bf6080ab",
   "metadata": {},
   "outputs": [
    {
     "data": {
      "text/plain": [
       "falha\n",
       "0    9275\n",
       "1     725\n",
       "Name: count, dtype: int64"
      ]
     },
     "execution_count": 8,
     "metadata": {},
     "output_type": "execute_result"
    }
   ],
   "source": [
    "df_total[\"falha\"].value_counts()"
   ]
  },
  {
   "cell_type": "code",
   "execution_count": 9,
   "id": "b4b25c4a",
   "metadata": {},
   "outputs": [],
   "source": [
    "import pandas as pd\n",
    "\n",
    "# Aplica get_dummies apenas nas colunas categóricas automaticamente\n",
    "df_total = pd.get_dummies(df_total, drop_first=True)\n"
   ]
  },
  {
   "cell_type": "code",
   "execution_count": 11,
   "id": "7e262aa8",
   "metadata": {},
   "outputs": [
    {
     "data": {
      "text/html": [
       "<div>\n",
       "<style scoped>\n",
       "    .dataframe tbody tr th:only-of-type {\n",
       "        vertical-align: middle;\n",
       "    }\n",
       "\n",
       "    .dataframe tbody tr th {\n",
       "        vertical-align: top;\n",
       "    }\n",
       "\n",
       "    .dataframe thead th {\n",
       "        text-align: right;\n",
       "    }\n",
       "</style>\n",
       "<table border=\"1\" class=\"dataframe\">\n",
       "  <thead>\n",
       "    <tr style=\"text-align: right;\">\n",
       "      <th></th>\n",
       "      <th>pressao_operacao_bar</th>\n",
       "      <th>pressao_piloto_bar</th>\n",
       "      <th>temperatura_ambiente_C</th>\n",
       "      <th>tempo_acionamento_ms</th>\n",
       "      <th>frequencia_comutacao_Hz</th>\n",
       "      <th>vazao_l_min</th>\n",
       "      <th>piloto_interno</th>\n",
       "      <th>bobina_festool</th>\n",
       "      <th>ligacao_eletrica_ok</th>\n",
       "      <th>manutencao_realizada</th>\n",
       "      <th>falha</th>\n",
       "      <th>tipo_valvula_MFH-3</th>\n",
       "      <th>tipo_valvula_MFH-5</th>\n",
       "      <th>tipo_valvula_MOFH-3</th>\n",
       "      <th>tipo_valvula_VL/O-3</th>\n",
       "      <th>funcao_valvula_5/2-way</th>\n",
       "      <th>atuacao_Pneumática</th>\n",
       "      <th>tamanho_conexao_G1/4</th>\n",
       "      <th>tamanho_conexao_G1/8</th>\n",
       "      <th>tamanho_conexao_G3/4</th>\n",
       "    </tr>\n",
       "  </thead>\n",
       "  <tbody>\n",
       "    <tr>\n",
       "      <th>0</th>\n",
       "      <td>8.60</td>\n",
       "      <td>0.66</td>\n",
       "      <td>27.9</td>\n",
       "      <td>58.065002</td>\n",
       "      <td>8.4</td>\n",
       "      <td>4500</td>\n",
       "      <td>True</td>\n",
       "      <td>True</td>\n",
       "      <td>True</td>\n",
       "      <td>False</td>\n",
       "      <td>0</td>\n",
       "      <td>False</td>\n",
       "      <td>False</td>\n",
       "      <td>False</td>\n",
       "      <td>False</td>\n",
       "      <td>True</td>\n",
       "      <td>False</td>\n",
       "      <td>True</td>\n",
       "      <td>False</td>\n",
       "      <td>False</td>\n",
       "    </tr>\n",
       "    <tr>\n",
       "      <th>1</th>\n",
       "      <td>0.87</td>\n",
       "      <td>5.60</td>\n",
       "      <td>-10.7</td>\n",
       "      <td>20.591719</td>\n",
       "      <td>29.4</td>\n",
       "      <td>1000</td>\n",
       "      <td>False</td>\n",
       "      <td>True</td>\n",
       "      <td>True</td>\n",
       "      <td>True</td>\n",
       "      <td>1</td>\n",
       "      <td>False</td>\n",
       "      <td>False</td>\n",
       "      <td>False</td>\n",
       "      <td>True</td>\n",
       "      <td>True</td>\n",
       "      <td>True</td>\n",
       "      <td>False</td>\n",
       "      <td>False</td>\n",
       "      <td>True</td>\n",
       "    </tr>\n",
       "    <tr>\n",
       "      <th>2</th>\n",
       "      <td>0.86</td>\n",
       "      <td>8.83</td>\n",
       "      <td>-4.5</td>\n",
       "      <td>41.673291</td>\n",
       "      <td>29.1</td>\n",
       "      <td>500</td>\n",
       "      <td>False</td>\n",
       "      <td>True</td>\n",
       "      <td>True</td>\n",
       "      <td>False</td>\n",
       "      <td>1</td>\n",
       "      <td>False</td>\n",
       "      <td>False</td>\n",
       "      <td>True</td>\n",
       "      <td>False</td>\n",
       "      <td>True</td>\n",
       "      <td>False</td>\n",
       "      <td>False</td>\n",
       "      <td>False</td>\n",
       "      <td>False</td>\n",
       "    </tr>\n",
       "    <tr>\n",
       "      <th>3</th>\n",
       "      <td>0.15</td>\n",
       "      <td>1.71</td>\n",
       "      <td>31.1</td>\n",
       "      <td>106.673100</td>\n",
       "      <td>9.1</td>\n",
       "      <td>500</td>\n",
       "      <td>True</td>\n",
       "      <td>True</td>\n",
       "      <td>True</td>\n",
       "      <td>False</td>\n",
       "      <td>1</td>\n",
       "      <td>False</td>\n",
       "      <td>False</td>\n",
       "      <td>False</td>\n",
       "      <td>True</td>\n",
       "      <td>True</td>\n",
       "      <td>True</td>\n",
       "      <td>False</td>\n",
       "      <td>True</td>\n",
       "      <td>False</td>\n",
       "    </tr>\n",
       "    <tr>\n",
       "      <th>4</th>\n",
       "      <td>11.48</td>\n",
       "      <td>7.13</td>\n",
       "      <td>6.7</td>\n",
       "      <td>23.000000</td>\n",
       "      <td>12.5</td>\n",
       "      <td>800</td>\n",
       "      <td>False</td>\n",
       "      <td>True</td>\n",
       "      <td>True</td>\n",
       "      <td>True</td>\n",
       "      <td>1</td>\n",
       "      <td>False</td>\n",
       "      <td>False</td>\n",
       "      <td>False</td>\n",
       "      <td>True</td>\n",
       "      <td>True</td>\n",
       "      <td>False</td>\n",
       "      <td>False</td>\n",
       "      <td>True</td>\n",
       "      <td>False</td>\n",
       "    </tr>\n",
       "  </tbody>\n",
       "</table>\n",
       "</div>"
      ],
      "text/plain": [
       "   pressao_operacao_bar  pressao_piloto_bar  temperatura_ambiente_C  \\\n",
       "0                  8.60                0.66                    27.9   \n",
       "1                  0.87                5.60                   -10.7   \n",
       "2                  0.86                8.83                    -4.5   \n",
       "3                  0.15                1.71                    31.1   \n",
       "4                 11.48                7.13                     6.7   \n",
       "\n",
       "   tempo_acionamento_ms  frequencia_comutacao_Hz  vazao_l_min  piloto_interno  \\\n",
       "0             58.065002                      8.4         4500            True   \n",
       "1             20.591719                     29.4         1000           False   \n",
       "2             41.673291                     29.1          500           False   \n",
       "3            106.673100                      9.1          500            True   \n",
       "4             23.000000                     12.5          800           False   \n",
       "\n",
       "   bobina_festool  ligacao_eletrica_ok  manutencao_realizada  falha  \\\n",
       "0            True                 True                 False      0   \n",
       "1            True                 True                  True      1   \n",
       "2            True                 True                 False      1   \n",
       "3            True                 True                 False      1   \n",
       "4            True                 True                  True      1   \n",
       "\n",
       "   tipo_valvula_MFH-3  tipo_valvula_MFH-5  tipo_valvula_MOFH-3  \\\n",
       "0               False               False                False   \n",
       "1               False               False                False   \n",
       "2               False               False                 True   \n",
       "3               False               False                False   \n",
       "4               False               False                False   \n",
       "\n",
       "   tipo_valvula_VL/O-3  funcao_valvula_5/2-way  atuacao_Pneumática  \\\n",
       "0                False                    True               False   \n",
       "1                 True                    True                True   \n",
       "2                False                    True               False   \n",
       "3                 True                    True                True   \n",
       "4                 True                    True               False   \n",
       "\n",
       "   tamanho_conexao_G1/4  tamanho_conexao_G1/8  tamanho_conexao_G3/4  \n",
       "0                  True                 False                 False  \n",
       "1                 False                 False                  True  \n",
       "2                 False                 False                 False  \n",
       "3                 False                  True                 False  \n",
       "4                 False                  True                 False  "
      ]
     },
     "execution_count": 11,
     "metadata": {},
     "output_type": "execute_result"
    }
   ],
   "source": [
    "df_total.head()"
   ]
  },
  {
   "cell_type": "code",
   "execution_count": 12,
   "id": "1c4c9c40",
   "metadata": {},
   "outputs": [
    {
     "data": {
      "text/plain": [
       "temperatura_ambiente_C\n",
       " 39.6    4\n",
       " 64.1    4\n",
       " 30.8    4\n",
       "-14.6    4\n",
       " 69.3    4\n",
       "Name: count, dtype: int64"
      ]
     },
     "execution_count": 12,
     "metadata": {},
     "output_type": "execute_result"
    }
   ],
   "source": [
    "df_total[df_total[\"falha\"] == 1][\"temperatura_ambiente_C\"].value_counts().head()"
   ]
  },
  {
   "cell_type": "code",
   "execution_count": 13,
   "id": "7a7ac5a0",
   "metadata": {},
   "outputs": [],
   "source": [
    "\n",
    "X = df_total.drop(columns = \"falha\")\n",
    "y = df_total[\"falha\"]"
   ]
  },
  {
   "cell_type": "code",
   "execution_count": 15,
   "id": "24bee756",
   "metadata": {},
   "outputs": [],
   "source": [
    "from sklearn.model_selection import train_test_split\n",
    "X_train, X_test, y_train, y_test = train_test_split(X, y, test_size = 0.2, random_state=432, stratify= y)\n"
   ]
  },
  {
   "cell_type": "code",
   "execution_count": 16,
   "id": "39c18f07",
   "metadata": {},
   "outputs": [],
   "source": [
    "import pandas as pd\n",
    "\n",
    "# Concatenar treino e teste se quiser padronizar todos\n",
    "X_train_encoded = pd.get_dummies(X_train)\n",
    "X_test_encoded = pd.get_dummies(X_test)\n",
    "\n",
    "# Alinhar colunas (caso o one-hot tenha gerado colunas diferentes)\n",
    "X_train_encoded, X_test_encoded = X_train_encoded.align(X_test_encoded, join='left', axis=1, fill_value=0)\n"
   ]
  },
  {
   "cell_type": "code",
   "execution_count": 17,
   "id": "d7522ce4",
   "metadata": {},
   "outputs": [],
   "source": [
    "import xgboost as xgb\n",
    "modelo = xgb.XGBClassifier(objective='binary:logistic')  # Corrige 'object' → 'objective'\n",
    "modelo.fit(X_train, y_train)\n",
    "preds = modelo.predict(X_test)\n"
   ]
  },
  {
   "cell_type": "code",
   "execution_count": 21,
   "id": "d0ce3386",
   "metadata": {},
   "outputs": [
    {
     "data": {
      "text/html": [
       "<div>\n",
       "<style scoped>\n",
       "    .dataframe tbody tr th:only-of-type {\n",
       "        vertical-align: middle;\n",
       "    }\n",
       "\n",
       "    .dataframe tbody tr th {\n",
       "        vertical-align: top;\n",
       "    }\n",
       "\n",
       "    .dataframe thead th {\n",
       "        text-align: right;\n",
       "    }\n",
       "</style>\n",
       "<table border=\"1\" class=\"dataframe\">\n",
       "  <thead>\n",
       "    <tr style=\"text-align: right;\">\n",
       "      <th></th>\n",
       "      <th>pressao_operacao_bar</th>\n",
       "      <th>pressao_piloto_bar</th>\n",
       "      <th>temperatura_ambiente_C</th>\n",
       "      <th>tempo_acionamento_ms</th>\n",
       "      <th>frequencia_comutacao_Hz</th>\n",
       "      <th>vazao_l_min</th>\n",
       "      <th>piloto_interno</th>\n",
       "      <th>bobina_festool</th>\n",
       "      <th>ligacao_eletrica_ok</th>\n",
       "      <th>manutencao_realizada</th>\n",
       "      <th>tipo_valvula_MFH-3</th>\n",
       "      <th>tipo_valvula_MFH-5</th>\n",
       "      <th>tipo_valvula_MOFH-3</th>\n",
       "      <th>tipo_valvula_VL/O-3</th>\n",
       "      <th>funcao_valvula_5/2-way</th>\n",
       "      <th>atuacao_Pneumática</th>\n",
       "      <th>tamanho_conexao_G1/4</th>\n",
       "      <th>tamanho_conexao_G1/8</th>\n",
       "      <th>tamanho_conexao_G3/4</th>\n",
       "    </tr>\n",
       "  </thead>\n",
       "  <tbody>\n",
       "    <tr>\n",
       "      <th>4380</th>\n",
       "      <td>5.52</td>\n",
       "      <td>6.60</td>\n",
       "      <td>8.7</td>\n",
       "      <td>62.000000</td>\n",
       "      <td>14.2</td>\n",
       "      <td>3700</td>\n",
       "      <td>True</td>\n",
       "      <td>True</td>\n",
       "      <td>True</td>\n",
       "      <td>True</td>\n",
       "      <td>False</td>\n",
       "      <td>False</td>\n",
       "      <td>True</td>\n",
       "      <td>False</td>\n",
       "      <td>True</td>\n",
       "      <td>True</td>\n",
       "      <td>False</td>\n",
       "      <td>False</td>\n",
       "      <td>True</td>\n",
       "    </tr>\n",
       "    <tr>\n",
       "      <th>6510</th>\n",
       "      <td>4.30</td>\n",
       "      <td>0.52</td>\n",
       "      <td>1.7</td>\n",
       "      <td>38.100000</td>\n",
       "      <td>6.2</td>\n",
       "      <td>3700</td>\n",
       "      <td>True</td>\n",
       "      <td>True</td>\n",
       "      <td>True</td>\n",
       "      <td>True</td>\n",
       "      <td>True</td>\n",
       "      <td>False</td>\n",
       "      <td>False</td>\n",
       "      <td>False</td>\n",
       "      <td>True</td>\n",
       "      <td>False</td>\n",
       "      <td>False</td>\n",
       "      <td>False</td>\n",
       "      <td>False</td>\n",
       "    </tr>\n",
       "    <tr>\n",
       "      <th>216</th>\n",
       "      <td>10.88</td>\n",
       "      <td>2.76</td>\n",
       "      <td>42.7</td>\n",
       "      <td>63.937595</td>\n",
       "      <td>29.5</td>\n",
       "      <td>4500</td>\n",
       "      <td>False</td>\n",
       "      <td>True</td>\n",
       "      <td>True</td>\n",
       "      <td>False</td>\n",
       "      <td>False</td>\n",
       "      <td>False</td>\n",
       "      <td>False</td>\n",
       "      <td>False</td>\n",
       "      <td>True</td>\n",
       "      <td>False</td>\n",
       "      <td>True</td>\n",
       "      <td>False</td>\n",
       "      <td>False</td>\n",
       "    </tr>\n",
       "    <tr>\n",
       "      <th>9332</th>\n",
       "      <td>1.04</td>\n",
       "      <td>7.61</td>\n",
       "      <td>19.8</td>\n",
       "      <td>46.500000</td>\n",
       "      <td>12.1</td>\n",
       "      <td>7500</td>\n",
       "      <td>False</td>\n",
       "      <td>True</td>\n",
       "      <td>True</td>\n",
       "      <td>True</td>\n",
       "      <td>False</td>\n",
       "      <td>False</td>\n",
       "      <td>False</td>\n",
       "      <td>False</td>\n",
       "      <td>False</td>\n",
       "      <td>False</td>\n",
       "      <td>False</td>\n",
       "      <td>False</td>\n",
       "      <td>False</td>\n",
       "    </tr>\n",
       "    <tr>\n",
       "      <th>955</th>\n",
       "      <td>8.09</td>\n",
       "      <td>8.18</td>\n",
       "      <td>20.0</td>\n",
       "      <td>146.219189</td>\n",
       "      <td>18.9</td>\n",
       "      <td>3700</td>\n",
       "      <td>True</td>\n",
       "      <td>False</td>\n",
       "      <td>False</td>\n",
       "      <td>False</td>\n",
       "      <td>True</td>\n",
       "      <td>False</td>\n",
       "      <td>False</td>\n",
       "      <td>False</td>\n",
       "      <td>False</td>\n",
       "      <td>True</td>\n",
       "      <td>True</td>\n",
       "      <td>False</td>\n",
       "      <td>False</td>\n",
       "    </tr>\n",
       "    <tr>\n",
       "      <th>...</th>\n",
       "      <td>...</td>\n",
       "      <td>...</td>\n",
       "      <td>...</td>\n",
       "      <td>...</td>\n",
       "      <td>...</td>\n",
       "      <td>...</td>\n",
       "      <td>...</td>\n",
       "      <td>...</td>\n",
       "      <td>...</td>\n",
       "      <td>...</td>\n",
       "      <td>...</td>\n",
       "      <td>...</td>\n",
       "      <td>...</td>\n",
       "      <td>...</td>\n",
       "      <td>...</td>\n",
       "      <td>...</td>\n",
       "      <td>...</td>\n",
       "      <td>...</td>\n",
       "      <td>...</td>\n",
       "    </tr>\n",
       "    <tr>\n",
       "      <th>1666</th>\n",
       "      <td>5.45</td>\n",
       "      <td>7.60</td>\n",
       "      <td>37.7</td>\n",
       "      <td>52.200000</td>\n",
       "      <td>23.4</td>\n",
       "      <td>1000</td>\n",
       "      <td>False</td>\n",
       "      <td>True</td>\n",
       "      <td>True</td>\n",
       "      <td>True</td>\n",
       "      <td>False</td>\n",
       "      <td>False</td>\n",
       "      <td>False</td>\n",
       "      <td>True</td>\n",
       "      <td>False</td>\n",
       "      <td>False</td>\n",
       "      <td>False</td>\n",
       "      <td>True</td>\n",
       "      <td>False</td>\n",
       "    </tr>\n",
       "    <tr>\n",
       "      <th>7220</th>\n",
       "      <td>2.10</td>\n",
       "      <td>6.11</td>\n",
       "      <td>39.3</td>\n",
       "      <td>57.100000</td>\n",
       "      <td>10.1</td>\n",
       "      <td>1000</td>\n",
       "      <td>True</td>\n",
       "      <td>True</td>\n",
       "      <td>True</td>\n",
       "      <td>True</td>\n",
       "      <td>False</td>\n",
       "      <td>False</td>\n",
       "      <td>False</td>\n",
       "      <td>True</td>\n",
       "      <td>False</td>\n",
       "      <td>True</td>\n",
       "      <td>False</td>\n",
       "      <td>False</td>\n",
       "      <td>False</td>\n",
       "    </tr>\n",
       "    <tr>\n",
       "      <th>5497</th>\n",
       "      <td>7.55</td>\n",
       "      <td>7.55</td>\n",
       "      <td>21.1</td>\n",
       "      <td>52.900000</td>\n",
       "      <td>16.3</td>\n",
       "      <td>1000</td>\n",
       "      <td>True</td>\n",
       "      <td>True</td>\n",
       "      <td>True</td>\n",
       "      <td>True</td>\n",
       "      <td>False</td>\n",
       "      <td>False</td>\n",
       "      <td>False</td>\n",
       "      <td>False</td>\n",
       "      <td>False</td>\n",
       "      <td>True</td>\n",
       "      <td>False</td>\n",
       "      <td>False</td>\n",
       "      <td>True</td>\n",
       "    </tr>\n",
       "    <tr>\n",
       "      <th>5715</th>\n",
       "      <td>1.31</td>\n",
       "      <td>2.07</td>\n",
       "      <td>21.8</td>\n",
       "      <td>69.100000</td>\n",
       "      <td>7.1</td>\n",
       "      <td>500</td>\n",
       "      <td>True</td>\n",
       "      <td>True</td>\n",
       "      <td>True</td>\n",
       "      <td>True</td>\n",
       "      <td>False</td>\n",
       "      <td>True</td>\n",
       "      <td>False</td>\n",
       "      <td>False</td>\n",
       "      <td>False</td>\n",
       "      <td>True</td>\n",
       "      <td>False</td>\n",
       "      <td>True</td>\n",
       "      <td>False</td>\n",
       "    </tr>\n",
       "    <tr>\n",
       "      <th>300</th>\n",
       "      <td>6.93</td>\n",
       "      <td>8.79</td>\n",
       "      <td>-18.8</td>\n",
       "      <td>166.416107</td>\n",
       "      <td>6.3</td>\n",
       "      <td>500</td>\n",
       "      <td>True</td>\n",
       "      <td>False</td>\n",
       "      <td>True</td>\n",
       "      <td>False</td>\n",
       "      <td>False</td>\n",
       "      <td>False</td>\n",
       "      <td>False</td>\n",
       "      <td>True</td>\n",
       "      <td>False</td>\n",
       "      <td>True</td>\n",
       "      <td>False</td>\n",
       "      <td>False</td>\n",
       "      <td>False</td>\n",
       "    </tr>\n",
       "  </tbody>\n",
       "</table>\n",
       "<p>8000 rows × 19 columns</p>\n",
       "</div>"
      ],
      "text/plain": [
       "      pressao_operacao_bar  pressao_piloto_bar  temperatura_ambiente_C  \\\n",
       "4380                  5.52                6.60                     8.7   \n",
       "6510                  4.30                0.52                     1.7   \n",
       "216                  10.88                2.76                    42.7   \n",
       "9332                  1.04                7.61                    19.8   \n",
       "955                   8.09                8.18                    20.0   \n",
       "...                    ...                 ...                     ...   \n",
       "1666                  5.45                7.60                    37.7   \n",
       "7220                  2.10                6.11                    39.3   \n",
       "5497                  7.55                7.55                    21.1   \n",
       "5715                  1.31                2.07                    21.8   \n",
       "300                   6.93                8.79                   -18.8   \n",
       "\n",
       "      tempo_acionamento_ms  frequencia_comutacao_Hz  vazao_l_min  \\\n",
       "4380             62.000000                     14.2         3700   \n",
       "6510             38.100000                      6.2         3700   \n",
       "216              63.937595                     29.5         4500   \n",
       "9332             46.500000                     12.1         7500   \n",
       "955             146.219189                     18.9         3700   \n",
       "...                    ...                      ...          ...   \n",
       "1666             52.200000                     23.4         1000   \n",
       "7220             57.100000                     10.1         1000   \n",
       "5497             52.900000                     16.3         1000   \n",
       "5715             69.100000                      7.1          500   \n",
       "300             166.416107                      6.3          500   \n",
       "\n",
       "      piloto_interno  bobina_festool  ligacao_eletrica_ok  \\\n",
       "4380            True            True                 True   \n",
       "6510            True            True                 True   \n",
       "216            False            True                 True   \n",
       "9332           False            True                 True   \n",
       "955             True           False                False   \n",
       "...              ...             ...                  ...   \n",
       "1666           False            True                 True   \n",
       "7220            True            True                 True   \n",
       "5497            True            True                 True   \n",
       "5715            True            True                 True   \n",
       "300             True           False                 True   \n",
       "\n",
       "      manutencao_realizada  tipo_valvula_MFH-3  tipo_valvula_MFH-5  \\\n",
       "4380                  True               False               False   \n",
       "6510                  True                True               False   \n",
       "216                  False               False               False   \n",
       "9332                  True               False               False   \n",
       "955                  False                True               False   \n",
       "...                    ...                 ...                 ...   \n",
       "1666                  True               False               False   \n",
       "7220                  True               False               False   \n",
       "5497                  True               False               False   \n",
       "5715                  True               False                True   \n",
       "300                  False               False               False   \n",
       "\n",
       "      tipo_valvula_MOFH-3  tipo_valvula_VL/O-3  funcao_valvula_5/2-way  \\\n",
       "4380                 True                False                    True   \n",
       "6510                False                False                    True   \n",
       "216                 False                False                    True   \n",
       "9332                False                False                   False   \n",
       "955                 False                False                   False   \n",
       "...                   ...                  ...                     ...   \n",
       "1666                False                 True                   False   \n",
       "7220                False                 True                   False   \n",
       "5497                False                False                   False   \n",
       "5715                False                False                   False   \n",
       "300                 False                 True                   False   \n",
       "\n",
       "      atuacao_Pneumática  tamanho_conexao_G1/4  tamanho_conexao_G1/8  \\\n",
       "4380                True                 False                 False   \n",
       "6510               False                 False                 False   \n",
       "216                False                  True                 False   \n",
       "9332               False                 False                 False   \n",
       "955                 True                  True                 False   \n",
       "...                  ...                   ...                   ...   \n",
       "1666               False                 False                  True   \n",
       "7220                True                 False                 False   \n",
       "5497                True                 False                 False   \n",
       "5715                True                 False                  True   \n",
       "300                 True                 False                 False   \n",
       "\n",
       "      tamanho_conexao_G3/4  \n",
       "4380                  True  \n",
       "6510                 False  \n",
       "216                  False  \n",
       "9332                 False  \n",
       "955                  False  \n",
       "...                    ...  \n",
       "1666                 False  \n",
       "7220                 False  \n",
       "5497                  True  \n",
       "5715                 False  \n",
       "300                  False  \n",
       "\n",
       "[8000 rows x 19 columns]"
      ]
     },
     "execution_count": 21,
     "metadata": {},
     "output_type": "execute_result"
    }
   ],
   "source": [
    "X_train"
   ]
  },
  {
   "cell_type": "code",
   "execution_count": 18,
   "id": "fc760464",
   "metadata": {},
   "outputs": [
    {
     "name": "stdout",
     "output_type": "stream",
     "text": [
      "A acurácia do modelo é 99.70%\n"
     ]
    }
   ],
   "source": [
    "from sklearn.metrics import accuracy_score\n",
    "acuracia = accuracy_score(y_test, preds)\n",
    "print(f'A acurácia do modelo é {acuracia:.2%}')\n"
   ]
  },
  {
   "cell_type": "code",
   "execution_count": 26,
   "id": "5f06c65e",
   "metadata": {},
   "outputs": [
    {
     "data": {
      "text/plain": [
       "['modelo_xgboost.pkl']"
      ]
     },
     "execution_count": 26,
     "metadata": {},
     "output_type": "execute_result"
    }
   ],
   "source": [
    "import joblib \n",
    "joblib.dump(modelo, 'modelo_xgboost.pkl')\n"
   ]
  },
  {
   "cell_type": "code",
   "execution_count": 23,
   "id": "06a8aac1",
   "metadata": {},
   "outputs": [
    {
     "data": {
      "image/png": "[encoded data removed]",
      "text/plain": [
       "<Figure size 640x480 with 1 Axes>"
      ]
     },
     "metadata": {},
     "output_type": "display_data"
    }
   ],
   "source": [
    "plt.hist(df_total[\"temperatura_ambiente_C\"], bins=30, edgecolor = \"black\")\n",
    "plt.title(\"Faixade temperatura\")\n",
    "plt.xlabel(\"Temperatura\")\n",
    "plt.ylabel(\"frequencia\")\n",
    "plt.show()"
   ]
  },
  {
   "cell_type": "code",
   "execution_count": 20,
   "id": "878be8b6",
   "metadata": {},
   "outputs": [
    {
     "data": {
      "image/png": "[encoded data removed]",
      "text/plain": [
       "<Figure size 640x480 with 1 Axes>"
      ]
     },
     "metadata": {},
     "output_type": "display_data"
    }
   ],
   "source": [
    "sns.boxplot(data= df_total, y = \"temperatura_ambiente_C\",x =\"falha\", hue =\"falha\")\n",
    "plt.title(\"Faixa de temperatura por falha\")\n",
    "plt.xlabel(\"falha\")\n",
    "plt.ylabel(\"temperatura\")\n",
    "plt.show()"
   ]
  },
  {
   "cell_type": "code",
   "execution_count": 21,
   "id": "cb69b8e6",
   "metadata": {},
   "outputs": [
    {
     "data": {
      "application/vnd.plotly.v1+json": {
       "config": {
        "plotlyServerURL": "https://plot.ly"
       },
       "data": [
        {
         "bingroup": "x",
         "hovertemplate": "temperatura_ambiente_C=%{x}<br>count=%{y}<extra></extra>",
         "legendgroup": "",
         "marker": {
          "color": "#636efa",
          "pattern": {
           "shape": ""
          }
         },
         "name": "",
         "orientation": "v",
         "showlegend": false,
         "type": "histogram",
         "x": {
          "bdata": "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",
          "dtype": "f8"
         },
         "xaxis": "x",
         "yaxis": "y"
        }
       ],
       "layout": {
        "barmode": "relative",
        "legend": {
         "tracegroupgap": 0
        },
        "template": {
         "data": {
          "bar": [
           {
            "error_x": {
             "color": "#2a3f5f"
            },
            "error_y": {
             "color": "#2a3f5f"
            },
            "marker": {
             "line": {
              "color": "#E5ECF6",
              "width": 0.5
             },
             "pattern": {
              "fillmode": "overlay",
              "size": 10,
              "solidity": 0.2
             }
            },
            "type": "bar"
           }
          ],
          "barpolar": [
           {
            "marker": {
             "line": {
              "color": "#E5ECF6",
              "width": 0.5
             },
             "pattern": {
              "fillmode": "overlay",
              "size": 10,
              "solidity": 0.2
             }
            },
            "type": "barpolar"
           }
          ],
          "carpet": [
           {
            "aaxis": {
             "endlinecolor": "#2a3f5f",
             "gridcolor": "white",
             "linecolor": "white",
             "minorgridcolor": "white",
             "startlinecolor": "#2a3f5f"
            },
            "baxis": {
             "endlinecolor": "#2a3f5f",
             "gridcolor": "white",
             "linecolor": "white",
             "minorgridcolor": "white",
             "startlinecolor": "#2a3f5f"
            },
            "type": "carpet"
           }
          ],
          "choropleth": [
           {
            "colorbar": {
             "outlinewidth": 0,
             "ticks": ""
            },
            "type": "choropleth"
           }
          ],
          "contour": [
           {
            "colorbar": {
             "outlinewidth": 0,
             "ticks": ""
            },
            "colorscale": [
             [
              0,
              "#0d0887"
             ],
             [
              0.1111111111111111,
              "#46039f"
             ],
             [
              0.2222222222222222,
              "#7201a8"
             ],
             [
              0.3333333333333333,
              "#9c179e"
             ],
             [
              0.4444444444444444,
              "#bd3786"
             ],
             [
              0.5555555555555556,
              "#d8576b"
             ],
             [
              0.6666666666666666,
              "#ed7953"
             ],
             [
              0.7777777777777778,
              "#fb9f3a"
             ],
             [
              0.8888888888888888,
              "#fdca26"
             ],
             [
              1,
              "#f0f921"
             ]
            ],
            "type": "contour"
           }
          ],
          "contourcarpet": [
           {
            "colorbar": {
             "outlinewidth": 0,
             "ticks": ""
            },
            "type": "contourcarpet"
           }
          ],
          "heatmap": [
           {
            "colorbar": {
             "outlinewidth": 0,
             "ticks": ""
            },
            "colorscale": [
             [
              0,
              "#0d0887"
             ],
             [
              0.1111111111111111,
              "#46039f"
             ],
             [
              0.2222222222222222,
              "#7201a8"
             ],
             [
              0.3333333333333333,
              "#9c179e"
             ],
             [
              0.4444444444444444,
              "#bd3786"
             ],
             [
              0.5555555555555556,
              "#d8576b"
             ],
             [
              0.6666666666666666,
              "#ed7953"
             ],
             [
              0.7777777777777778,
              "#fb9f3a"
             ],
             [
              0.8888888888888888,
              "#fdca26"
             ],
             [
              1,
              "#f0f921"
             ]
            ],
            "type": "heatmap"
           }
          ],
          "histogram": [
           {
            "marker": {
             "pattern": {
              "fillmode": "overlay",
              "size": 10,
              "solidity": 0.2
             }
            },
            "type": "histogram"
           }
          ],
          "histogram2d": [
           {
            "colorbar": {
             "outlinewidth": 0,
             "ticks": ""
            },
            "colorscale": [
             [
              0,
              "#0d0887"
             ],
             [
              0.1111111111111111,
              "#46039f"
             ],
             [
              0.2222222222222222,
              "#7201a8"
             ],
             [
              0.3333333333333333,
              "#9c179e"
             ],
             [
              0.4444444444444444,
              "#bd3786"
             ],
             [
              0.5555555555555556,
              "#d8576b"
             ],
             [
              0.6666666666666666,
              "#ed7953"
             ],
             [
              0.7777777777777778,
              "#fb9f3a"
             ],
             [
              0.8888888888888888,
              "#fdca26"
             ],
             [
              1,
              "#f0f921"
             ]
            ],
            "type": "histogram2d"
           }
          ],
          "histogram2dcontour": [
           {
            "colorbar": {
             "outlinewidth": 0,
             "ticks": ""
            },
            "colorscale": [
             [
              0,
              "#0d0887"
             ],
             [
              0.1111111111111111,
              "#46039f"
             ],
             [
              0.2222222222222222,
              "#7201a8"
             ],
             [
              0.3333333333333333,
              "#9c179e"
             ],
             [
              0.4444444444444444,
              "#bd3786"
             ],
             [
              0.5555555555555556,
              "#d8576b"
             ],
             [
              0.6666666666666666,
              "#ed7953"
             ],
             [
              0.7777777777777778,
              "#fb9f3a"
             ],
             [
              0.8888888888888888,
              "#fdca26"
             ],
             [
              1,
              "#f0f921"
             ]
            ],
            "type": "histogram2dcontour"
           }
          ],
          "mesh3d": [
           {
            "colorbar": {
             "outlinewidth": 0,
             "ticks": ""
            },
            "type": "mesh3d"
           }
          ],
          "parcoords": [
           {
            "line": {
             "colorbar": {
              "outlinewidth": 0,
              "ticks": ""
             }
            },
            "type": "parcoords"
           }
          ],
          "pie": [
           {
            "automargin": true,
            "type": "pie"
           }
          ],
          "scatter": [
           {
            "fillpattern": {
             "fillmode": "overlay",
             "size": 10,
             "solidity": 0.2
            },
            "type": "scatter"
           }
          ],
          "scatter3d": [
           {
            "line": {
             "colorbar": {
              "outlinewidth": 0,
              "ticks": ""
             }
            },
            "marker": {
             "colorbar": {
              "outlinewidth": 0,
              "ticks": ""
             }
            },
            "type": "scatter3d"
           }
          ],
          "scattercarpet": [
           {
            "marker": {
             "colorbar": {
              "outlinewidth": 0,
              "ticks": ""
             }
            },
            "type": "scattercarpet"
           }
          ],
          "scattergeo": [
           {
            "marker": {
             "colorbar": {
              "outlinewidth": 0,
              "ticks": ""
             }
            },
            "type": "scattergeo"
           }
          ],
          "scattergl": [
           {
            "marker": {
             "colorbar": {
              "outlinewidth": 0,
              "ticks": ""
             }
            },
            "type": "scattergl"
           }
          ],
          "scattermap": [
           {
            "marker": {
             "colorbar": {
              "outlinewidth": 0,
              "ticks": ""
             }
            },
            "type": "scattermap"
           }
          ],
          "scattermapbox": [
           {
            "marker": {
             "colorbar": {
              "outlinewidth": 0,
              "ticks": ""
             }
            },
            "type": "scattermapbox"
           }
          ],
          "scatterpolar": [
           {
            "marker": {
             "colorbar": {
              "outlinewidth": 0,
              "ticks": ""
             }
            },
            "type": "scatterpolar"
           }
          ],
          "scatterpolargl": [
           {
            "marker": {
             "colorbar": {
              "outlinewidth": 0,
              "ticks": ""
             }
            },
            "type": "scatterpolargl"
           }
          ],
          "scatterternary": [
           {
            "marker": {
             "colorbar": {
              "outlinewidth": 0,
              "ticks": ""
             }
            },
            "type": "scatterternary"
           }
          ],
          "surface": [
           {
            "colorbar": {
             "outlinewidth": 0,
             "ticks": ""
            },
            "colorscale": [
             [
              0,
              "#0d0887"
             ],
             [
              0.1111111111111111,
              "#46039f"
             ],
             [
              0.2222222222222222,
              "#7201a8"
             ],
             [
              0.3333333333333333,
              "#9c179e"
             ],
             [
              0.4444444444444444,
              "#bd3786"
             ],
             [
              0.5555555555555556,
              "#d8576b"
             ],
             [
              0.6666666666666666,
              "#ed7953"
             ],
             [
              0.7777777777777778,
              "#fb9f3a"
             ],
             [
              0.8888888888888888,
              "#fdca26"
             ],
             [
              1,
              "#f0f921"
             ]
            ],
            "type": "surface"
           }
          ],
          "table": [
           {
            "cells": {
             "fill": {
              "color": "#EBF0F8"
             },
             "line": {
              "color": "white"
             }
            },
            "header": {
             "fill": {
              "color": "#C8D4E3"
             },
             "line": {
              "color": "white"
             }
            },
            "type": "table"
           }
          ]
         },
         "layout": {
          "annotationdefaults": {
           "arrowcolor": "#2a3f5f",
           "arrowhead": 0,
           "arrowwidth": 1
          },
          "autotypenumbers": "strict",
          "coloraxis": {
           "colorbar": {
            "outlinewidth": 0,
            "ticks": ""
           }
          },
          "colorscale": {
           "diverging": [
            [
             0,
             "#8e0152"
            ],
            [
             0.1,
             "#c51b7d"
            ],
            [
             0.2,
             "#de77ae"
            ],
            [
             0.3,
             "#f1b6da"
            ],
            [
             0.4,
             "#fde0ef"
            ],
            [
             0.5,
             "#f7f7f7"
            ],
            [
             0.6,
             "#e6f5d0"
            ],
            [
             0.7,
             "#b8e186"
            ],
            [
             0.8,
             "#7fbc41"
            ],
            [
             0.9,
             "#4d9221"
            ],
            [
             1,
             "#276419"
            ]
           ],
           "sequential": [
            [
             0,
             "#0d0887"
            ],
            [
             0.1111111111111111,
             "#46039f"
            ],
            [
             0.2222222222222222,
             "#7201a8"
            ],
            [
             0.3333333333333333,
             "#9c179e"
            ],
            [
             0.4444444444444444,
             "#bd3786"
            ],
            [
             0.5555555555555556,
             "#d8576b"
            ],
            [
             0.6666666666666666,
             "#ed7953"
            ],
            [
             0.7777777777777778,
             "#fb9f3a"
            ],
            [
             0.8888888888888888,
             "#fdca26"
            ],
            [
             1,
             "#f0f921"
            ]
           ],
           "sequentialminus": [
            [
             0,
             "#0d0887"
            ],
            [
             0.1111111111111111,
             "#46039f"
            ],
            [
             0.2222222222222222,
             "#7201a8"
            ],
            [
             0.3333333333333333,
             "#9c179e"
            ],
            [
             0.4444444444444444,
             "#bd3786"
            ],
            [
             0.5555555555555556,
             "#d8576b"
            ],
            [
             0.6666666666666666,
             "#ed7953"
            ],
            [
             0.7777777777777778,
             "#fb9f3a"
            ],
            [
             0.8888888888888888,
             "#fdca26"
            ],
            [
             1,
             "#f0f921"
            ]
           ]
          },
          "colorway": [
           "#636efa",
           "#EF553B",
           "#00cc96",
           "#ab63fa",
           "#FFA15A",
           "#19d3f3",
           "#FF6692",
           "#B6E880",
           "#FF97FF",
           "#FECB52"
          ],
          "font": {
           "color": "#2a3f5f"
          },
          "geo": {
           "bgcolor": "white",
           "lakecolor": "white",
           "landcolor": "#E5ECF6",
           "showlakes": true,
           "showland": true,
           "subunitcolor": "white"
          },
          "hoverlabel": {
           "align": "left"
          },
          "hovermode": "closest",
          "mapbox": {
           "style": "light"
          },
          "paper_bgcolor": "white",
          "plot_bgcolor": "#E5ECF6",
          "polar": {
           "angularaxis": {
            "gridcolor": "white",
            "linecolor": "white",
            "ticks": ""
           },
           "bgcolor": "#E5ECF6",
           "radialaxis": {
            "gridcolor": "white",
            "linecolor": "white",
            "ticks": ""
           }
          },
          "scene": {
           "xaxis": {
            "backgroundcolor": "#E5ECF6",
            "gridcolor": "white",
            "gridwidth": 2,
            "linecolor": "white",
            "showbackground": true,
            "ticks": "",
            "zerolinecolor": "white"
           },
           "yaxis": {
            "backgroundcolor": "#E5ECF6",
            "gridcolor": "white",
            "gridwidth": 2,
            "linecolor": "white",
            "showbackground": true,
            "ticks": "",
            "zerolinecolor": "white"
           },
           "zaxis": {
            "backgroundcolor": "#E5ECF6",
            "gridcolor": "white",
            "gridwidth": 2,
            "linecolor": "white",
            "showbackground": true,
            "ticks": "",
            "zerolinecolor": "white"
           }
          },
          "shapedefaults": {
           "line": {
            "color": "#2a3f5f"
           }
          },
          "ternary": {
           "aaxis": {
            "gridcolor": "white",
            "linecolor": "white",
            "ticks": ""
           },
           "baxis": {
            "gridcolor": "white",
            "linecolor": "white",
            "ticks": ""
           },
           "bgcolor": "#E5ECF6",
           "caxis": {
            "gridcolor": "white",
            "linecolor": "white",
            "ticks": ""
           }
          },
          "title": {
           "x": 0.05
          },
          "xaxis": {
           "automargin": true,
           "gridcolor": "white",
           "linecolor": "white",
           "ticks": "",
           "title": {
            "standoff": 15
           },
           "zerolinecolor": "white",
           "zerolinewidth": 2
          },
          "yaxis": {
           "automargin": true,
           "gridcolor": "white",
           "linecolor": "white",
           "ticks": "",
           "title": {
            "standoff": 15
           },
           "zerolinecolor": "white",
           "zerolinewidth": 2
          }
         }
        },
        "title": {
         "text": "Distribuição de temperatura"
        },
        "xaxis": {
         "anchor": "y",
         "domain": [
          0,
          1
         ],
         "title": {
          "text": "temperatura_ambiente_C"
         }
        },
        "yaxis": {
         "anchor": "x",
         "domain": [
          0,
          1
         ],
         "title": {
          "text": "count"
         }
        }
       }
      }
     },
     "metadata": {},
     "output_type": "display_data"
    }
   ],
   "source": [
    "px.histogram(df_total, x=\"temperatura_ambiente_C\", title = \"Distribuição de temperatura\")"
   ]
  },
  {
   "cell_type": "code",
   "execution_count": 22,
   "id": "f1cae8ee",
   "metadata": {},
   "outputs": [
    {
     "name": "stdout",
     "output_type": "stream",
     "text": [
      "[0 0 0 0 0 0 1 0 0 0]\n"
     ]
    }
   ],
   "source": [
    "# Carregar o modelo\n",
    "modelo_carregado = joblib.load('modelo_xgboost.pkl')\n",
    "\n",
    "# Fazer previsões novamente com os dados de teste\n",
    "predicoes = modelo_carregado.predict(X_test)\n",
    "\n",
    "# Ver resultado\n",
    "print(predicoes[:10])\n"
   ]
  },
  {
   "cell_type": "code",
   "execution_count": 23,
   "id": "4a052b84",
   "metadata": {},
   "outputs": [
    {
     "data": {
      "text/plain": [
       "Index(['pressao_operacao_bar', 'pressao_piloto_bar', 'temperatura_ambiente_C',\n",
       "       'tempo_acionamento_ms', 'frequencia_comutacao_Hz', 'vazao_l_min',\n",
       "       'piloto_interno', 'bobina_festool', 'ligacao_eletrica_ok',\n",
       "       'manutencao_realizada', 'falha', 'tipo_valvula_MFH-3',\n",
       "       'tipo_valvula_MFH-5', 'tipo_valvula_MOFH-3', 'tipo_valvula_VL/O-3',\n",
       "       'funcao_valvula_5/2-way', 'atuacao_Pneumática', 'tamanho_conexao_G1/4',\n",
       "       'tamanho_conexao_G1/8', 'tamanho_conexao_G3/4'],\n",
       "      dtype='object')"
      ]
     },
     "execution_count": 23,
     "metadata": {},
     "output_type": "execute_result"
    }
   ],
   "source": [
    "df_total.columns"
   ]
  },
  {
   "cell_type": "code",
   "execution_count": 1,
   "id": "b1ed3d1b",
   "metadata": {},
   "outputs": [
    {
     "ename": "NameError",
     "evalue": "name 'df_total' is not defined",
     "output_type": "error",
     "traceback": [
      "\u001b[31m---------------------------------------------------------------------------\u001b[39m",
      "\u001b[31mNameError\u001b[39m                                 Traceback (most recent call last)",
      "\u001b[36mCell\u001b[39m\u001b[36m \u001b[39m\u001b[32mIn[1]\u001b[39m\u001b[32m, line 1\u001b[39m\n\u001b[32m----> \u001b[39m\u001b[32m1\u001b[39m \u001b[43mdf_total\u001b[49m.head()\n",
      "\u001b[31mNameError\u001b[39m: name 'df_total' is not defined"
     ]
    }
   ],
   "source": [
    "df_total.head()"
   ]
  }
 ],
 "metadata": {
  "kernelspec": {
   "display_name": ".venv",
   "language": "python",
   "name": "python3"
  },
  "language_info": {
   "codemirror_mode": {
    "name": "ipython",
    "version": 3
   },
   "file_extension": ".py",
   "mimetype": "text/x-python",
   "name": "python",
   "nbconvert_exporter": "python",
   "pygments_lexer": "ipython3",
   "version": "3.13.3"
  }
 },
 "nbformat": 4,
 "nbformat_minor": 5
}
