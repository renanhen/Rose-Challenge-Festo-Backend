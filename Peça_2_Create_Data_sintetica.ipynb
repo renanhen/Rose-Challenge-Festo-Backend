{
 "cells": [
  {
   "cell_type": "code",
   "execution_count": 2,
   "id": "27e192c9",
   "metadata": {},
   "outputs": [],
   "source": [
    "import pandas as pd\n",
    "import matplotlib.pyplot as plt\n",
    "import seaborn as sns \n",
    "import sklearn \n",
    "import random as rd \n",
    "import numpy as np\n",
    "import plotly.express as px"
   ]
  },
  {
   "cell_type": "code",
   "execution_count": 3,
   "id": "c413633e",
   "metadata": {},
   "outputs": [],
   "source": [
    "# Tamanho do dataset\n",
    "n = 1000\n",
    "np.random.seed(42)\n",
    "\n",
    "# Possíveis configurações\n",
    "diametros = [8, 10, 12, 16, 20, 25, 32, 40, 50, 63]\n",
    "max_curso = {8: 100, 10: 100, 12: 200, 16: 200, 20: 320, 25: 500, 32: 500, 40: 500, 50: 500, 63: 500}\n",
    "tipos_amortecimento = [\"P\", \"PPS\", \"PPV\"]\n",
    "protecao_especial = [\"Nenhuma\", \"R3\", \"R8\", \"A6\"]\n",
    "posicoes = [\"Horizontal\", \"Vertical\", \"Inclinada\"]\n"
   ]
  },
  {
   "cell_type": "code",
   "execution_count": 4,
   "id": "91b77c4f",
   "metadata": {},
   "outputs": [],
   "source": [
    "\n",
    "# Função para gerar modelo fictício\n",
    "def gerar_modelo(diam, curso, amort):\n",
    "    return f\"DSNU-{diam}-{curso}-{amort}-A\""
   ]
  },
  {
   "cell_type": "code",
   "execution_count": 5,
   "id": "554f0fe5",
   "metadata": {},
   "outputs": [],
   "source": [
    "\n",
    "# Geração básica dos dados\n",
    "df = pd.DataFrame({\n",
    "    \"diametro_pistao_mm\": np.random.choice(diametros, size=n),\n",
    "    \"tipo_amortecimento\": np.random.choice(tipos_amortecimento, size=n),\n",
    "    \"protecao_especial\": np.random.choice(protecao_especial, size=n, p=[0.6, 0.2, 0.1, 0.1]),\n",
    "    \"clamping_unit\": np.random.choice([True, False], size=n, p=[0.2, 0.8]),\n",
    "    \"posicao_instalacao\": np.random.choice(posicoes, size=n),\n",
    "    \"horas_operacao\": np.random.randint(0, 2000, size=n),\n",
    "    \"manutencao_realizada\": np.random.choice([True, False], size=n, p=[0.7, 0.3])\n",
    "})"
   ]
  },
  {
   "cell_type": "code",
   "execution_count": 6,
   "id": "60ecb9a3",
   "metadata": {},
   "outputs": [],
   "source": [
    "\n",
    "# Curso compatível com diâmetro\n",
    "df[\"curso_mm\"] = [np.random.randint(1, max_curso[d]+1) for d in df[\"diametro_pistao_mm\"]]\n",
    "\n",
    "# Modelo\n",
    "df[\"modelo_cilindro\"] = [gerar_modelo(d, c, a) for d, c, a in zip(df[\"diametro_pistao_mm\"], df[\"curso_mm\"], df[\"tipo_amortecimento\"])]\n",
    "\n",
    "# Condições de operação\n",
    "df[\"temperatura_ambiente_C\"] = np.round(np.random.uniform(-25, 125, size=n), 1)\n",
    "df[\"pressao_operacao_bar\"] = np.round(np.random.uniform(0, 12, size=n), 2)\n",
    "df[\"velocidade_pistao_mm_s\"] = np.round(np.random.uniform(5, 1200, size=n), 1)\n",
    "\n",
    "# Sensores\n",
    "df[\"pressao_entrada_sensor_bar\"] = df[\"pressao_operacao_bar\"] + np.round(np.random.uniform(0, 0.5, size=n), 2)\n",
    "df[\"pressao_saida_sensor_bar\"] = df[\"pressao_entrada_sensor_bar\"] - np.round(np.random.uniform(0, 1.0, size=n), 2)\n",
    "df[\"sensor_umidade_pct\"] = np.round(np.random.uniform(0, 50, size=n), 1)\n",
    "df[\"vibracao_mm_s\"] = np.round(np.random.uniform(0, 15, size=n), 2)\n",
    "\n",
    "# Variáveis calculadas\n",
    "df[\"delta_pressao_bar\"] = df[\"pressao_entrada_sensor_bar\"] - df[\"pressao_saida_sensor_bar\"]\n",
    "df[\"vazamento_detectado\"] = df[\"delta_pressao_bar\"] > 0.5\n",
    "df[\"umidade_interna_detectada\"] = df[\"sensor_umidade_pct\"] > 10\n",
    "df[\"desgaste_detectado\"] = df[\"vibracao_mm_s\"] > 5"
   ]
  },
  {
   "cell_type": "code",
   "execution_count": 7,
   "id": "036c8978",
   "metadata": {},
   "outputs": [],
   "source": [
    "\n",
    "# ---------------------\n",
    "# Regras de falha realistas\n",
    "# ---------------------\n",
    "\n",
    "def verificar_falha(row):\n",
    "    # Limites de pressão e temperatura por proteção especial\n",
    "    temp_min, temp_max = -20, 80\n",
    "    press_min, press_max = 1, 10\n",
    "\n",
    "    if row[\"protecao_especial\"] == \"A6\":  # metal scraper\n",
    "        press_min, press_max = 2, 10\n",
    "    elif row[\"protecao_especial\"] == \"R3\":  # alta corrosão\n",
    "        temp_min, temp_max = -20, 80\n",
    "    elif row[\"protecao_especial\"] == \"Nenhuma\":\n",
    "        temp_min, temp_max = -20, 80\n",
    "\n",
    "    # Falhas por condição\n",
    "    falha = False\n",
    "    if not (press_min <= row[\"pressao_operacao_bar\"] <= press_max):\n",
    "        falha = True\n",
    "    if not (temp_min <= row[\"temperatura_ambiente_C\"] <= temp_max):\n",
    "        falha = True\n",
    "    if row[\"vazamento_detectado\"]:\n",
    "        falha = True\n",
    "    if row[\"umidade_interna_detectada\"]:\n",
    "        falha = True\n",
    "    if row[\"desgaste_detectado\"]:\n",
    "        falha = True\n",
    "    if not row[\"manutencao_realizada\"] and row[\"horas_operacao\"] > 1500:\n",
    "        falha = True\n",
    "\n",
    "    return int(falha)\n",
    "\n",
    "df[\"falha\"] = df.apply(verificar_falha, axis=1)"
   ]
  },
  {
   "cell_type": "code",
   "execution_count": 10,
   "id": "48c6321f",
   "metadata": {},
   "outputs": [
    {
     "data": {
      "text/html": [
       "<div>\n",
       "<style scoped>\n",
       "    .dataframe tbody tr th:only-of-type {\n",
       "        vertical-align: middle;\n",
       "    }\n",
       "\n",
       "    .dataframe tbody tr th {\n",
       "        vertical-align: top;\n",
       "    }\n",
       "\n",
       "    .dataframe thead th {\n",
       "        text-align: right;\n",
       "    }\n",
       "</style>\n",
       "<table border=\"1\" class=\"dataframe\">\n",
       "  <thead>\n",
       "    <tr style=\"text-align: right;\">\n",
       "      <th></th>\n",
       "      <th>diametro_pistao_mm</th>\n",
       "      <th>tipo_amortecimento</th>\n",
       "      <th>protecao_especial</th>\n",
       "      <th>clamping_unit</th>\n",
       "      <th>posicao_instalacao</th>\n",
       "      <th>horas_operacao</th>\n",
       "      <th>manutencao_realizada</th>\n",
       "      <th>curso_mm</th>\n",
       "      <th>modelo_cilindro</th>\n",
       "      <th>temperatura_ambiente_C</th>\n",
       "      <th>...</th>\n",
       "      <th>velocidade_pistao_mm_s</th>\n",
       "      <th>pressao_entrada_sensor_bar</th>\n",
       "      <th>pressao_saida_sensor_bar</th>\n",
       "      <th>sensor_umidade_pct</th>\n",
       "      <th>vibracao_mm_s</th>\n",
       "      <th>delta_pressao_bar</th>\n",
       "      <th>vazamento_detectado</th>\n",
       "      <th>umidade_interna_detectada</th>\n",
       "      <th>desgaste_detectado</th>\n",
       "      <th>falha</th>\n",
       "    </tr>\n",
       "  </thead>\n",
       "  <tbody>\n",
       "    <tr>\n",
       "      <th>0</th>\n",
       "      <td>32</td>\n",
       "      <td>P</td>\n",
       "      <td>Nenhuma</td>\n",
       "      <td>False</td>\n",
       "      <td>Inclinada</td>\n",
       "      <td>709</td>\n",
       "      <td>True</td>\n",
       "      <td>328</td>\n",
       "      <td>DSNU-32-328-P-A</td>\n",
       "      <td>58.5</td>\n",
       "      <td>...</td>\n",
       "      <td>950.1</td>\n",
       "      <td>4.29</td>\n",
       "      <td>3.36</td>\n",
       "      <td>29.8</td>\n",
       "      <td>11.64</td>\n",
       "      <td>0.93</td>\n",
       "      <td>True</td>\n",
       "      <td>True</td>\n",
       "      <td>True</td>\n",
       "      <td>1</td>\n",
       "    </tr>\n",
       "    <tr>\n",
       "      <th>1</th>\n",
       "      <td>16</td>\n",
       "      <td>PPV</td>\n",
       "      <td>Nenhuma</td>\n",
       "      <td>False</td>\n",
       "      <td>Horizontal</td>\n",
       "      <td>395</td>\n",
       "      <td>False</td>\n",
       "      <td>133</td>\n",
       "      <td>DSNU-16-133-PPV-A</td>\n",
       "      <td>108.8</td>\n",
       "      <td>...</td>\n",
       "      <td>964.6</td>\n",
       "      <td>5.48</td>\n",
       "      <td>5.16</td>\n",
       "      <td>48.5</td>\n",
       "      <td>9.76</td>\n",
       "      <td>0.32</td>\n",
       "      <td>False</td>\n",
       "      <td>True</td>\n",
       "      <td>True</td>\n",
       "      <td>1</td>\n",
       "    </tr>\n",
       "    <tr>\n",
       "      <th>2</th>\n",
       "      <td>40</td>\n",
       "      <td>PPV</td>\n",
       "      <td>R8</td>\n",
       "      <td>False</td>\n",
       "      <td>Vertical</td>\n",
       "      <td>911</td>\n",
       "      <td>False</td>\n",
       "      <td>42</td>\n",
       "      <td>DSNU-40-42-PPV-A</td>\n",
       "      <td>18.1</td>\n",
       "      <td>...</td>\n",
       "      <td>860.8</td>\n",
       "      <td>10.36</td>\n",
       "      <td>9.43</td>\n",
       "      <td>49.2</td>\n",
       "      <td>3.19</td>\n",
       "      <td>0.93</td>\n",
       "      <td>True</td>\n",
       "      <td>True</td>\n",
       "      <td>False</td>\n",
       "      <td>1</td>\n",
       "    </tr>\n",
       "    <tr>\n",
       "      <th>3</th>\n",
       "      <td>20</td>\n",
       "      <td>P</td>\n",
       "      <td>R8</td>\n",
       "      <td>False</td>\n",
       "      <td>Inclinada</td>\n",
       "      <td>1360</td>\n",
       "      <td>True</td>\n",
       "      <td>135</td>\n",
       "      <td>DSNU-20-135-P-A</td>\n",
       "      <td>24.2</td>\n",
       "      <td>...</td>\n",
       "      <td>249.1</td>\n",
       "      <td>11.59</td>\n",
       "      <td>10.80</td>\n",
       "      <td>29.0</td>\n",
       "      <td>5.62</td>\n",
       "      <td>0.79</td>\n",
       "      <td>True</td>\n",
       "      <td>True</td>\n",
       "      <td>True</td>\n",
       "      <td>1</td>\n",
       "    </tr>\n",
       "    <tr>\n",
       "      <th>4</th>\n",
       "      <td>32</td>\n",
       "      <td>P</td>\n",
       "      <td>R3</td>\n",
       "      <td>True</td>\n",
       "      <td>Inclinada</td>\n",
       "      <td>1004</td>\n",
       "      <td>True</td>\n",
       "      <td>42</td>\n",
       "      <td>DSNU-32-42-P-A</td>\n",
       "      <td>-7.7</td>\n",
       "      <td>...</td>\n",
       "      <td>300.4</td>\n",
       "      <td>7.65</td>\n",
       "      <td>6.73</td>\n",
       "      <td>0.1</td>\n",
       "      <td>0.12</td>\n",
       "      <td>0.92</td>\n",
       "      <td>True</td>\n",
       "      <td>False</td>\n",
       "      <td>False</td>\n",
       "      <td>1</td>\n",
       "    </tr>\n",
       "  </tbody>\n",
       "</table>\n",
       "<p>5 rows × 21 columns</p>\n",
       "</div>"
      ],
      "text/plain": [
       "   diametro_pistao_mm tipo_amortecimento protecao_especial  clamping_unit  \\\n",
       "0                  32                  P           Nenhuma          False   \n",
       "1                  16                PPV           Nenhuma          False   \n",
       "2                  40                PPV                R8          False   \n",
       "3                  20                  P                R8          False   \n",
       "4                  32                  P                R3           True   \n",
       "\n",
       "  posicao_instalacao  horas_operacao  manutencao_realizada  curso_mm  \\\n",
       "0          Inclinada             709                  True       328   \n",
       "1         Horizontal             395                 False       133   \n",
       "2           Vertical             911                 False        42   \n",
       "3          Inclinada            1360                  True       135   \n",
       "4          Inclinada            1004                  True        42   \n",
       "\n",
       "     modelo_cilindro  temperatura_ambiente_C  ...  velocidade_pistao_mm_s  \\\n",
       "0    DSNU-32-328-P-A                    58.5  ...                   950.1   \n",
       "1  DSNU-16-133-PPV-A                   108.8  ...                   964.6   \n",
       "2   DSNU-40-42-PPV-A                    18.1  ...                   860.8   \n",
       "3    DSNU-20-135-P-A                    24.2  ...                   249.1   \n",
       "4     DSNU-32-42-P-A                    -7.7  ...                   300.4   \n",
       "\n",
       "   pressao_entrada_sensor_bar  pressao_saida_sensor_bar  sensor_umidade_pct  \\\n",
       "0                        4.29                      3.36                29.8   \n",
       "1                        5.48                      5.16                48.5   \n",
       "2                       10.36                      9.43                49.2   \n",
       "3                       11.59                     10.80                29.0   \n",
       "4                        7.65                      6.73                 0.1   \n",
       "\n",
       "   vibracao_mm_s  delta_pressao_bar  vazamento_detectado  \\\n",
       "0          11.64               0.93                 True   \n",
       "1           9.76               0.32                False   \n",
       "2           3.19               0.93                 True   \n",
       "3           5.62               0.79                 True   \n",
       "4           0.12               0.92                 True   \n",
       "\n",
       "   umidade_interna_detectada  desgaste_detectado  falha  \n",
       "0                       True                True      1  \n",
       "1                       True                True      1  \n",
       "2                       True               False      1  \n",
       "3                       True                True      1  \n",
       "4                      False               False      1  \n",
       "\n",
       "[5 rows x 21 columns]"
      ]
     },
     "execution_count": 10,
     "metadata": {},
     "output_type": "execute_result"
    }
   ],
   "source": [
    "# Exibir primeiras linhas\n",
    "df.head()"
   ]
  },
  {
   "cell_type": "code",
   "execution_count": 9,
   "id": "5212797f",
   "metadata": {},
   "outputs": [
    {
     "name": "stdout",
     "output_type": "stream",
     "text": [
      "\n",
      "Arquivo 'datasheet_festo_dsnu.csv' gerado com sucesso!\n"
     ]
    }
   ],
   "source": [
    "# Salvar CSV\n",
    "df.to_csv(\"datasheet_festo_dsnu.csv\", index=False)\n",
    "print(\"\\nArquivo 'datasheet_festo_dsnu.csv' gerado com sucesso!\")"
   ]
  },
  {
   "cell_type": "code",
   "execution_count": 11,
   "id": "4fd53e2b",
   "metadata": {},
   "outputs": [
    {
     "data": {
      "text/plain": [
       "falha\n",
       "1    990\n",
       "0     10\n",
       "Name: count, dtype: int64"
      ]
     },
     "execution_count": 11,
     "metadata": {},
     "output_type": "execute_result"
    }
   ],
   "source": [
    "df.value_counts(\"falha\")"
   ]
  },
  {
   "cell_type": "markdown",
   "id": "48cfaede",
   "metadata": {},
   "source": [
    "#Gerando eventos que não darão falha"
   ]
  },
  {
   "cell_type": "code",
   "execution_count": 12,
   "id": "f391f30a",
   "metadata": {},
   "outputs": [],
   "source": [
    "# ---------- Parte 2: gerar 9000 linhas extras SAUDÁVEIS ----------\n",
    "np.random.seed(123)\n",
    "n_extra = 9000\n",
    "\n",
    "df_extra = pd.DataFrame({\n",
    "    \"diametro_pistao_mm\": np.random.choice(diametros, size=n_extra),\n",
    "    \"tipo_amortecimento\": np.random.choice(tipos_amortecimento, size=n_extra),\n",
    "    \"protecao_especial\": np.random.choice(protecao_especial, size=n_extra, p=[0.6, 0.2, 0.1, 0.1]),\n",
    "    \"clamping_unit\": np.random.choice([True, False], size=n_extra, p=[0.2, 0.8]),\n",
    "    \"posicao_instalacao\": np.random.choice(posicoes, size=n_extra),\n",
    "    # horas de operação mantidas baixas para evitar falha por manutenção atrasada\n",
    "    \"horas_operacao\": np.random.randint(0, 1200, size=n_extra),\n",
    "    # garantir manutenção ok para a maioria\n",
    "    \"manutencao_realizada\": np.ones(n_extra, dtype=bool)\n",
    "})\n",
    "df_extra[\"curso_mm\"] = [np.random.randint(1, max_curso[d]+1) for d in df_extra[\"diametro_pistao_mm\"]]\n",
    "df_extra[\"modelo_cilindro\"] = [gerar_modelo(d, c, a) for d, c, a in zip(df_extra[\"diametro_pistao_mm\"], df_extra[\"curso_mm\"], df_extra[\"tipo_amortecimento\"])]\n",
    "\n",
    "# Geração em faixas \"seguras\" (para evitar disparo das regras de falha)\n",
    "# temperatura segura: -10 .. 60  (dentro do limite -20..80)\n",
    "df_extra[\"temperatura_ambiente_C\"] = np.round(np.random.uniform(-10, 60, size=n_extra), 1)\n",
    "\n",
    "# pressão segura dependendo da proteção (A6 exige pressões um pouco maiores)\n",
    "press_min_list = np.where(df_extra[\"protecao_especial\"] == \"A6\", 2.0, 1.0)\n",
    "pressao_vals = np.array([np.round(np.random.uniform(low, 9.5), 2) for low in press_min_list])\n",
    "df_extra[\"pressao_operacao_bar\"] = pressao_vals\n",
    "\n",
    "df_extra[\"velocidade_pistao_mm_s\"] = np.round(np.random.uniform(10, 800, size=n_extra), 1)\n",
    "\n",
    "# Sensores com deltas controlados (delta <= 0.4 para evitar vazamento_detectado > 0.5)\n",
    "df_extra[\"pressao_entrada_sensor_bar\"] = df_extra[\"pressao_operacao_bar\"] + np.round(np.random.uniform(0, 0.2, size=n_extra), 2)\n",
    "deltas = np.random.uniform(0, 0.4, size=n_extra)  # <=0.4 -> não supera 0.5\n",
    "df_extra[\"pressao_saida_sensor_bar\"] = df_extra[\"pressao_entrada_sensor_bar\"] - np.round(deltas, 3)\n",
    "\n",
    "df_extra[\"sensor_umidade_pct\"] = np.round(np.random.uniform(0, 5, size=n_extra), 2)  # baixo (<10)\n",
    "df_extra[\"vibracao_mm_s\"] = np.round(np.random.uniform(0, 4, size=n_extra), 2)  # baixo (<5)\n",
    "\n",
    "df_extra[\"delta_pressao_bar\"] = df_extra[\"pressao_entrada_sensor_bar\"] - df_extra[\"pressao_saida_sensor_bar\"]\n",
    "df_extra[\"vazamento_detectado\"] = df_extra[\"delta_pressao_bar\"] > 0.5\n",
    "df_extra[\"umidade_interna_detectada\"] = df_extra[\"sensor_umidade_pct\"] > 10\n",
    "df_extra[\"desgaste_detectado\"] = df_extra[\"vibracao_mm_s\"] > 5"
   ]
  },
  {
   "cell_type": "code",
   "execution_count": 15,
   "id": "c9f52755",
   "metadata": {},
   "outputs": [],
   "source": [
    "df_extra[\"falha\"] = 0"
   ]
  },
  {
   "cell_type": "code",
   "execution_count": 16,
   "id": "6657ba06",
   "metadata": {},
   "outputs": [
    {
     "data": {
      "text/html": [
       "<div>\n",
       "<style scoped>\n",
       "    .dataframe tbody tr th:only-of-type {\n",
       "        vertical-align: middle;\n",
       "    }\n",
       "\n",
       "    .dataframe tbody tr th {\n",
       "        vertical-align: top;\n",
       "    }\n",
       "\n",
       "    .dataframe thead th {\n",
       "        text-align: right;\n",
       "    }\n",
       "</style>\n",
       "<table border=\"1\" class=\"dataframe\">\n",
       "  <thead>\n",
       "    <tr style=\"text-align: right;\">\n",
       "      <th></th>\n",
       "      <th>diametro_pistao_mm</th>\n",
       "      <th>tipo_amortecimento</th>\n",
       "      <th>protecao_especial</th>\n",
       "      <th>clamping_unit</th>\n",
       "      <th>posicao_instalacao</th>\n",
       "      <th>horas_operacao</th>\n",
       "      <th>manutencao_realizada</th>\n",
       "      <th>curso_mm</th>\n",
       "      <th>modelo_cilindro</th>\n",
       "      <th>temperatura_ambiente_C</th>\n",
       "      <th>...</th>\n",
       "      <th>velocidade_pistao_mm_s</th>\n",
       "      <th>pressao_entrada_sensor_bar</th>\n",
       "      <th>pressao_saida_sensor_bar</th>\n",
       "      <th>sensor_umidade_pct</th>\n",
       "      <th>vibracao_mm_s</th>\n",
       "      <th>delta_pressao_bar</th>\n",
       "      <th>vazamento_detectado</th>\n",
       "      <th>umidade_interna_detectada</th>\n",
       "      <th>desgaste_detectado</th>\n",
       "      <th>falha</th>\n",
       "    </tr>\n",
       "  </thead>\n",
       "  <tbody>\n",
       "    <tr>\n",
       "      <th>0</th>\n",
       "      <td>12</td>\n",
       "      <td>PPS</td>\n",
       "      <td>Nenhuma</td>\n",
       "      <td>False</td>\n",
       "      <td>Inclinada</td>\n",
       "      <td>764</td>\n",
       "      <td>True</td>\n",
       "      <td>97</td>\n",
       "      <td>DSNU-12-97-PPS-A</td>\n",
       "      <td>10.9</td>\n",
       "      <td>...</td>\n",
       "      <td>340.0</td>\n",
       "      <td>3.70</td>\n",
       "      <td>3.648</td>\n",
       "      <td>1.03</td>\n",
       "      <td>3.36</td>\n",
       "      <td>0.052</td>\n",
       "      <td>False</td>\n",
       "      <td>False</td>\n",
       "      <td>False</td>\n",
       "      <td>0</td>\n",
       "    </tr>\n",
       "    <tr>\n",
       "      <th>1</th>\n",
       "      <td>12</td>\n",
       "      <td>PPV</td>\n",
       "      <td>Nenhuma</td>\n",
       "      <td>False</td>\n",
       "      <td>Inclinada</td>\n",
       "      <td>22</td>\n",
       "      <td>True</td>\n",
       "      <td>44</td>\n",
       "      <td>DSNU-12-44-PPV-A</td>\n",
       "      <td>44.8</td>\n",
       "      <td>...</td>\n",
       "      <td>761.4</td>\n",
       "      <td>6.77</td>\n",
       "      <td>6.410</td>\n",
       "      <td>4.00</td>\n",
       "      <td>1.51</td>\n",
       "      <td>0.360</td>\n",
       "      <td>False</td>\n",
       "      <td>False</td>\n",
       "      <td>False</td>\n",
       "      <td>0</td>\n",
       "    </tr>\n",
       "    <tr>\n",
       "      <th>2</th>\n",
       "      <td>32</td>\n",
       "      <td>PPV</td>\n",
       "      <td>Nenhuma</td>\n",
       "      <td>False</td>\n",
       "      <td>Inclinada</td>\n",
       "      <td>1195</td>\n",
       "      <td>True</td>\n",
       "      <td>376</td>\n",
       "      <td>DSNU-32-376-PPV-A</td>\n",
       "      <td>-2.9</td>\n",
       "      <td>...</td>\n",
       "      <td>139.2</td>\n",
       "      <td>4.63</td>\n",
       "      <td>4.625</td>\n",
       "      <td>3.91</td>\n",
       "      <td>0.28</td>\n",
       "      <td>0.005</td>\n",
       "      <td>False</td>\n",
       "      <td>False</td>\n",
       "      <td>False</td>\n",
       "      <td>0</td>\n",
       "    </tr>\n",
       "    <tr>\n",
       "      <th>3</th>\n",
       "      <td>10</td>\n",
       "      <td>PPV</td>\n",
       "      <td>Nenhuma</td>\n",
       "      <td>False</td>\n",
       "      <td>Inclinada</td>\n",
       "      <td>188</td>\n",
       "      <td>True</td>\n",
       "      <td>97</td>\n",
       "      <td>DSNU-10-97-PPV-A</td>\n",
       "      <td>56.3</td>\n",
       "      <td>...</td>\n",
       "      <td>529.4</td>\n",
       "      <td>4.26</td>\n",
       "      <td>3.996</td>\n",
       "      <td>0.20</td>\n",
       "      <td>3.20</td>\n",
       "      <td>0.264</td>\n",
       "      <td>False</td>\n",
       "      <td>False</td>\n",
       "      <td>False</td>\n",
       "      <td>0</td>\n",
       "    </tr>\n",
       "    <tr>\n",
       "      <th>4</th>\n",
       "      <td>16</td>\n",
       "      <td>PPV</td>\n",
       "      <td>R3</td>\n",
       "      <td>True</td>\n",
       "      <td>Vertical</td>\n",
       "      <td>189</td>\n",
       "      <td>True</td>\n",
       "      <td>173</td>\n",
       "      <td>DSNU-16-173-PPV-A</td>\n",
       "      <td>44.8</td>\n",
       "      <td>...</td>\n",
       "      <td>385.5</td>\n",
       "      <td>4.16</td>\n",
       "      <td>4.065</td>\n",
       "      <td>3.02</td>\n",
       "      <td>1.42</td>\n",
       "      <td>0.095</td>\n",
       "      <td>False</td>\n",
       "      <td>False</td>\n",
       "      <td>False</td>\n",
       "      <td>0</td>\n",
       "    </tr>\n",
       "  </tbody>\n",
       "</table>\n",
       "<p>5 rows × 21 columns</p>\n",
       "</div>"
      ],
      "text/plain": [
       "   diametro_pistao_mm tipo_amortecimento protecao_especial  clamping_unit  \\\n",
       "0                  12                PPS           Nenhuma          False   \n",
       "1                  12                PPV           Nenhuma          False   \n",
       "2                  32                PPV           Nenhuma          False   \n",
       "3                  10                PPV           Nenhuma          False   \n",
       "4                  16                PPV                R3           True   \n",
       "\n",
       "  posicao_instalacao  horas_operacao  manutencao_realizada  curso_mm  \\\n",
       "0          Inclinada             764                  True        97   \n",
       "1          Inclinada              22                  True        44   \n",
       "2          Inclinada            1195                  True       376   \n",
       "3          Inclinada             188                  True        97   \n",
       "4           Vertical             189                  True       173   \n",
       "\n",
       "     modelo_cilindro  temperatura_ambiente_C  ...  velocidade_pistao_mm_s  \\\n",
       "0   DSNU-12-97-PPS-A                    10.9  ...                   340.0   \n",
       "1   DSNU-12-44-PPV-A                    44.8  ...                   761.4   \n",
       "2  DSNU-32-376-PPV-A                    -2.9  ...                   139.2   \n",
       "3   DSNU-10-97-PPV-A                    56.3  ...                   529.4   \n",
       "4  DSNU-16-173-PPV-A                    44.8  ...                   385.5   \n",
       "\n",
       "   pressao_entrada_sensor_bar  pressao_saida_sensor_bar  sensor_umidade_pct  \\\n",
       "0                        3.70                     3.648                1.03   \n",
       "1                        6.77                     6.410                4.00   \n",
       "2                        4.63                     4.625                3.91   \n",
       "3                        4.26                     3.996                0.20   \n",
       "4                        4.16                     4.065                3.02   \n",
       "\n",
       "   vibracao_mm_s  delta_pressao_bar  vazamento_detectado  \\\n",
       "0           3.36              0.052                False   \n",
       "1           1.51              0.360                False   \n",
       "2           0.28              0.005                False   \n",
       "3           3.20              0.264                False   \n",
       "4           1.42              0.095                False   \n",
       "\n",
       "   umidade_interna_detectada  desgaste_detectado  falha  \n",
       "0                      False               False      0  \n",
       "1                      False               False      0  \n",
       "2                      False               False      0  \n",
       "3                      False               False      0  \n",
       "4                      False               False      0  \n",
       "\n",
       "[5 rows x 21 columns]"
      ]
     },
     "execution_count": 16,
     "metadata": {},
     "output_type": "execute_result"
    }
   ],
   "source": [
    "df_extra.head()"
   ]
  },
  {
   "cell_type": "code",
   "execution_count": 17,
   "id": "aba41aab",
   "metadata": {},
   "outputs": [
    {
     "data": {
      "text/plain": [
       "falha\n",
       "0    9000\n",
       "Name: count, dtype: int64"
      ]
     },
     "execution_count": 17,
     "metadata": {},
     "output_type": "execute_result"
    }
   ],
   "source": [
    "df_extra.value_counts(\"falha\")"
   ]
  },
  {
   "cell_type": "code",
   "execution_count": 24,
   "id": "2a79cefe",
   "metadata": {},
   "outputs": [],
   "source": [
    "# ---------- Parte 3: concatenar e salvar ----------\n",
    "df_total = pd.concat([df, df_extra], ignore_index=True)\n"
   ]
  },
  {
   "cell_type": "code",
   "execution_count": 25,
   "id": "0f5b1513",
   "metadata": {},
   "outputs": [
    {
     "name": "stdout",
     "output_type": "stream",
     "text": [
      "\n",
      "Contagem (após adicionar 9000 extras):\n",
      "falha\n",
      "0    9010\n",
      "1     990\n",
      "Name: count, dtype: int64\n"
     ]
    }
   ],
   "source": [
    "print(\"\\nContagem (após adicionar 9000 extras):\")\n",
    "print(df_total[\"falha\"].value_counts())"
   ]
  },
  {
   "cell_type": "code",
   "execution_count": 20,
   "id": "499a575b",
   "metadata": {},
   "outputs": [
    {
     "name": "stdout",
     "output_type": "stream",
     "text": [
      "\n",
      "CSV salvo como 'datasheet_festo_dsnu_plus_extra.csv' (no diretório atual).\n"
     ]
    }
   ],
   "source": [
    "# Salvar\n",
    "df_total.to_csv(\"datasheet_festo_dsnu_plus_extra.csv\", index=False)\n",
    "print(\"\\nCSV salvo como 'datasheet_festo_dsnu_plus_extra.csv' (no diretório atual).\")"
   ]
  },
  {
   "cell_type": "code",
   "execution_count": 26,
   "id": "8bbbbe3d",
   "metadata": {},
   "outputs": [
    {
     "data": {
      "text/html": [
       "<div>\n",
       "<style scoped>\n",
       "    .dataframe tbody tr th:only-of-type {\n",
       "        vertical-align: middle;\n",
       "    }\n",
       "\n",
       "    .dataframe tbody tr th {\n",
       "        vertical-align: top;\n",
       "    }\n",
       "\n",
       "    .dataframe thead th {\n",
       "        text-align: right;\n",
       "    }\n",
       "</style>\n",
       "<table border=\"1\" class=\"dataframe\">\n",
       "  <thead>\n",
       "    <tr style=\"text-align: right;\">\n",
       "      <th></th>\n",
       "      <th>diametro_pistao_mm</th>\n",
       "      <th>tipo_amortecimento</th>\n",
       "      <th>protecao_especial</th>\n",
       "      <th>clamping_unit</th>\n",
       "      <th>posicao_instalacao</th>\n",
       "      <th>horas_operacao</th>\n",
       "      <th>manutencao_realizada</th>\n",
       "      <th>curso_mm</th>\n",
       "      <th>modelo_cilindro</th>\n",
       "      <th>temperatura_ambiente_C</th>\n",
       "      <th>...</th>\n",
       "      <th>velocidade_pistao_mm_s</th>\n",
       "      <th>pressao_entrada_sensor_bar</th>\n",
       "      <th>pressao_saida_sensor_bar</th>\n",
       "      <th>sensor_umidade_pct</th>\n",
       "      <th>vibracao_mm_s</th>\n",
       "      <th>delta_pressao_bar</th>\n",
       "      <th>vazamento_detectado</th>\n",
       "      <th>umidade_interna_detectada</th>\n",
       "      <th>desgaste_detectado</th>\n",
       "      <th>falha</th>\n",
       "    </tr>\n",
       "  </thead>\n",
       "  <tbody>\n",
       "    <tr>\n",
       "      <th>0</th>\n",
       "      <td>32</td>\n",
       "      <td>P</td>\n",
       "      <td>Nenhuma</td>\n",
       "      <td>False</td>\n",
       "      <td>Inclinada</td>\n",
       "      <td>709</td>\n",
       "      <td>True</td>\n",
       "      <td>328</td>\n",
       "      <td>DSNU-32-328-P-A</td>\n",
       "      <td>58.5</td>\n",
       "      <td>...</td>\n",
       "      <td>950.1</td>\n",
       "      <td>4.29</td>\n",
       "      <td>3.36</td>\n",
       "      <td>29.8</td>\n",
       "      <td>11.64</td>\n",
       "      <td>0.93</td>\n",
       "      <td>True</td>\n",
       "      <td>True</td>\n",
       "      <td>True</td>\n",
       "      <td>1</td>\n",
       "    </tr>\n",
       "    <tr>\n",
       "      <th>1</th>\n",
       "      <td>16</td>\n",
       "      <td>PPV</td>\n",
       "      <td>Nenhuma</td>\n",
       "      <td>False</td>\n",
       "      <td>Horizontal</td>\n",
       "      <td>395</td>\n",
       "      <td>False</td>\n",
       "      <td>133</td>\n",
       "      <td>DSNU-16-133-PPV-A</td>\n",
       "      <td>108.8</td>\n",
       "      <td>...</td>\n",
       "      <td>964.6</td>\n",
       "      <td>5.48</td>\n",
       "      <td>5.16</td>\n",
       "      <td>48.5</td>\n",
       "      <td>9.76</td>\n",
       "      <td>0.32</td>\n",
       "      <td>False</td>\n",
       "      <td>True</td>\n",
       "      <td>True</td>\n",
       "      <td>1</td>\n",
       "    </tr>\n",
       "    <tr>\n",
       "      <th>2</th>\n",
       "      <td>40</td>\n",
       "      <td>PPV</td>\n",
       "      <td>R8</td>\n",
       "      <td>False</td>\n",
       "      <td>Vertical</td>\n",
       "      <td>911</td>\n",
       "      <td>False</td>\n",
       "      <td>42</td>\n",
       "      <td>DSNU-40-42-PPV-A</td>\n",
       "      <td>18.1</td>\n",
       "      <td>...</td>\n",
       "      <td>860.8</td>\n",
       "      <td>10.36</td>\n",
       "      <td>9.43</td>\n",
       "      <td>49.2</td>\n",
       "      <td>3.19</td>\n",
       "      <td>0.93</td>\n",
       "      <td>True</td>\n",
       "      <td>True</td>\n",
       "      <td>False</td>\n",
       "      <td>1</td>\n",
       "    </tr>\n",
       "    <tr>\n",
       "      <th>3</th>\n",
       "      <td>20</td>\n",
       "      <td>P</td>\n",
       "      <td>R8</td>\n",
       "      <td>False</td>\n",
       "      <td>Inclinada</td>\n",
       "      <td>1360</td>\n",
       "      <td>True</td>\n",
       "      <td>135</td>\n",
       "      <td>DSNU-20-135-P-A</td>\n",
       "      <td>24.2</td>\n",
       "      <td>...</td>\n",
       "      <td>249.1</td>\n",
       "      <td>11.59</td>\n",
       "      <td>10.80</td>\n",
       "      <td>29.0</td>\n",
       "      <td>5.62</td>\n",
       "      <td>0.79</td>\n",
       "      <td>True</td>\n",
       "      <td>True</td>\n",
       "      <td>True</td>\n",
       "      <td>1</td>\n",
       "    </tr>\n",
       "    <tr>\n",
       "      <th>4</th>\n",
       "      <td>32</td>\n",
       "      <td>P</td>\n",
       "      <td>R3</td>\n",
       "      <td>True</td>\n",
       "      <td>Inclinada</td>\n",
       "      <td>1004</td>\n",
       "      <td>True</td>\n",
       "      <td>42</td>\n",
       "      <td>DSNU-32-42-P-A</td>\n",
       "      <td>-7.7</td>\n",
       "      <td>...</td>\n",
       "      <td>300.4</td>\n",
       "      <td>7.65</td>\n",
       "      <td>6.73</td>\n",
       "      <td>0.1</td>\n",
       "      <td>0.12</td>\n",
       "      <td>0.92</td>\n",
       "      <td>True</td>\n",
       "      <td>False</td>\n",
       "      <td>False</td>\n",
       "      <td>1</td>\n",
       "    </tr>\n",
       "  </tbody>\n",
       "</table>\n",
       "<p>5 rows × 21 columns</p>\n",
       "</div>"
      ],
      "text/plain": [
       "   diametro_pistao_mm tipo_amortecimento protecao_especial  clamping_unit  \\\n",
       "0                  32                  P           Nenhuma          False   \n",
       "1                  16                PPV           Nenhuma          False   \n",
       "2                  40                PPV                R8          False   \n",
       "3                  20                  P                R8          False   \n",
       "4                  32                  P                R3           True   \n",
       "\n",
       "  posicao_instalacao  horas_operacao  manutencao_realizada  curso_mm  \\\n",
       "0          Inclinada             709                  True       328   \n",
       "1         Horizontal             395                 False       133   \n",
       "2           Vertical             911                 False        42   \n",
       "3          Inclinada            1360                  True       135   \n",
       "4          Inclinada            1004                  True        42   \n",
       "\n",
       "     modelo_cilindro  temperatura_ambiente_C  ...  velocidade_pistao_mm_s  \\\n",
       "0    DSNU-32-328-P-A                    58.5  ...                   950.1   \n",
       "1  DSNU-16-133-PPV-A                   108.8  ...                   964.6   \n",
       "2   DSNU-40-42-PPV-A                    18.1  ...                   860.8   \n",
       "3    DSNU-20-135-P-A                    24.2  ...                   249.1   \n",
       "4     DSNU-32-42-P-A                    -7.7  ...                   300.4   \n",
       "\n",
       "   pressao_entrada_sensor_bar  pressao_saida_sensor_bar  sensor_umidade_pct  \\\n",
       "0                        4.29                      3.36                29.8   \n",
       "1                        5.48                      5.16                48.5   \n",
       "2                       10.36                      9.43                49.2   \n",
       "3                       11.59                     10.80                29.0   \n",
       "4                        7.65                      6.73                 0.1   \n",
       "\n",
       "   vibracao_mm_s  delta_pressao_bar  vazamento_detectado  \\\n",
       "0          11.64               0.93                 True   \n",
       "1           9.76               0.32                False   \n",
       "2           3.19               0.93                 True   \n",
       "3           5.62               0.79                 True   \n",
       "4           0.12               0.92                 True   \n",
       "\n",
       "   umidade_interna_detectada  desgaste_detectado  falha  \n",
       "0                       True                True      1  \n",
       "1                       True                True      1  \n",
       "2                       True               False      1  \n",
       "3                       True                True      1  \n",
       "4                      False               False      1  \n",
       "\n",
       "[5 rows x 21 columns]"
      ]
     },
     "execution_count": 26,
     "metadata": {},
     "output_type": "execute_result"
    }
   ],
   "source": [
    "df_total.head()"
   ]
  },
  {
   "cell_type": "code",
   "execution_count": 27,
   "id": "f414b4b1",
   "metadata": {},
   "outputs": [
    {
     "data": {
      "text/plain": [
       "diametro_pistao_mm              10\n",
       "tipo_amortecimento               3\n",
       "protecao_especial                4\n",
       "clamping_unit                    2\n",
       "posicao_instalacao               3\n",
       "horas_operacao                1535\n",
       "manutencao_realizada             2\n",
       "curso_mm                       500\n",
       "modelo_cilindro               5732\n",
       "temperatura_ambiente_C        1093\n",
       "pressao_operacao_bar          1053\n",
       "velocidade_pistao_mm_s        5936\n",
       "pressao_entrada_sensor_bar    1774\n",
       "pressao_saida_sensor_bar      7578\n",
       "sensor_umidade_pct             887\n",
       "vibracao_mm_s                  939\n",
       "delta_pressao_bar             1219\n",
       "vazamento_detectado              2\n",
       "umidade_interna_detectada        2\n",
       "desgaste_detectado               2\n",
       "falha                            2\n",
       "dtype: int64"
      ]
     },
     "execution_count": 27,
     "metadata": {},
     "output_type": "execute_result"
    }
   ],
   "source": [
    "df_total.nunique()\n"
   ]
  },
  {
   "cell_type": "code",
   "execution_count": 28,
   "id": "4420f259",
   "metadata": {},
   "outputs": [],
   "source": [
    "# Salva a coluna modelo_cilindro separada\n",
    "modelo_cilindro = df_total[\"modelo_cilindro\"]"
   ]
  },
  {
   "cell_type": "code",
   "execution_count": 33,
   "id": "28604c34",
   "metadata": {},
   "outputs": [],
   "source": [
    "# Aplica get_dummies nas demais colunas\n",
    "df_total_encoded = pd.get_dummies(\n",
    "    df_total.drop(columns=[\"modelo_cilindro\"]),\n",
    "    drop_first=True\n",
    ")"
   ]
  },
  {
   "cell_type": "code",
   "execution_count": 31,
   "id": "98b8f945",
   "metadata": {},
   "outputs": [],
   "source": [
    "# Recoloca a coluna modelo_cilindro no final\n",
    "df_total_encoded[\"modelo_cilindro\"] = modelo_cilindro"
   ]
  },
  {
   "cell_type": "code",
   "execution_count": 34,
   "id": "327503a8",
   "metadata": {},
   "outputs": [
    {
     "data": {
      "text/html": [
       "<div>\n",
       "<style scoped>\n",
       "    .dataframe tbody tr th:only-of-type {\n",
       "        vertical-align: middle;\n",
       "    }\n",
       "\n",
       "    .dataframe tbody tr th {\n",
       "        vertical-align: top;\n",
       "    }\n",
       "\n",
       "    .dataframe thead th {\n",
       "        text-align: right;\n",
       "    }\n",
       "</style>\n",
       "<table border=\"1\" class=\"dataframe\">\n",
       "  <thead>\n",
       "    <tr style=\"text-align: right;\">\n",
       "      <th></th>\n",
       "      <th>diametro_pistao_mm</th>\n",
       "      <th>clamping_unit</th>\n",
       "      <th>horas_operacao</th>\n",
       "      <th>manutencao_realizada</th>\n",
       "      <th>curso_mm</th>\n",
       "      <th>temperatura_ambiente_C</th>\n",
       "      <th>pressao_operacao_bar</th>\n",
       "      <th>velocidade_pistao_mm_s</th>\n",
       "      <th>pressao_entrada_sensor_bar</th>\n",
       "      <th>pressao_saida_sensor_bar</th>\n",
       "      <th>...</th>\n",
       "      <th>umidade_interna_detectada</th>\n",
       "      <th>desgaste_detectado</th>\n",
       "      <th>falha</th>\n",
       "      <th>tipo_amortecimento_PPS</th>\n",
       "      <th>tipo_amortecimento_PPV</th>\n",
       "      <th>protecao_especial_Nenhuma</th>\n",
       "      <th>protecao_especial_R3</th>\n",
       "      <th>protecao_especial_R8</th>\n",
       "      <th>posicao_instalacao_Inclinada</th>\n",
       "      <th>posicao_instalacao_Vertical</th>\n",
       "    </tr>\n",
       "  </thead>\n",
       "  <tbody>\n",
       "    <tr>\n",
       "      <th>0</th>\n",
       "      <td>32</td>\n",
       "      <td>False</td>\n",
       "      <td>709</td>\n",
       "      <td>True</td>\n",
       "      <td>328</td>\n",
       "      <td>58.5</td>\n",
       "      <td>3.87</td>\n",
       "      <td>950.1</td>\n",
       "      <td>4.29</td>\n",
       "      <td>3.36</td>\n",
       "      <td>...</td>\n",
       "      <td>True</td>\n",
       "      <td>True</td>\n",
       "      <td>1</td>\n",
       "      <td>False</td>\n",
       "      <td>False</td>\n",
       "      <td>True</td>\n",
       "      <td>False</td>\n",
       "      <td>False</td>\n",
       "      <td>True</td>\n",
       "      <td>False</td>\n",
       "    </tr>\n",
       "    <tr>\n",
       "      <th>1</th>\n",
       "      <td>16</td>\n",
       "      <td>False</td>\n",
       "      <td>395</td>\n",
       "      <td>False</td>\n",
       "      <td>133</td>\n",
       "      <td>108.8</td>\n",
       "      <td>5.28</td>\n",
       "      <td>964.6</td>\n",
       "      <td>5.48</td>\n",
       "      <td>5.16</td>\n",
       "      <td>...</td>\n",
       "      <td>True</td>\n",
       "      <td>True</td>\n",
       "      <td>1</td>\n",
       "      <td>False</td>\n",
       "      <td>True</td>\n",
       "      <td>True</td>\n",
       "      <td>False</td>\n",
       "      <td>False</td>\n",
       "      <td>False</td>\n",
       "      <td>False</td>\n",
       "    </tr>\n",
       "    <tr>\n",
       "      <th>2</th>\n",
       "      <td>40</td>\n",
       "      <td>False</td>\n",
       "      <td>911</td>\n",
       "      <td>False</td>\n",
       "      <td>42</td>\n",
       "      <td>18.1</td>\n",
       "      <td>10.00</td>\n",
       "      <td>860.8</td>\n",
       "      <td>10.36</td>\n",
       "      <td>9.43</td>\n",
       "      <td>...</td>\n",
       "      <td>True</td>\n",
       "      <td>False</td>\n",
       "      <td>1</td>\n",
       "      <td>False</td>\n",
       "      <td>True</td>\n",
       "      <td>False</td>\n",
       "      <td>False</td>\n",
       "      <td>True</td>\n",
       "      <td>False</td>\n",
       "      <td>True</td>\n",
       "    </tr>\n",
       "    <tr>\n",
       "      <th>3</th>\n",
       "      <td>20</td>\n",
       "      <td>False</td>\n",
       "      <td>1360</td>\n",
       "      <td>True</td>\n",
       "      <td>135</td>\n",
       "      <td>24.2</td>\n",
       "      <td>11.15</td>\n",
       "      <td>249.1</td>\n",
       "      <td>11.59</td>\n",
       "      <td>10.80</td>\n",
       "      <td>...</td>\n",
       "      <td>True</td>\n",
       "      <td>True</td>\n",
       "      <td>1</td>\n",
       "      <td>False</td>\n",
       "      <td>False</td>\n",
       "      <td>False</td>\n",
       "      <td>False</td>\n",
       "      <td>True</td>\n",
       "      <td>True</td>\n",
       "      <td>False</td>\n",
       "    </tr>\n",
       "    <tr>\n",
       "      <th>4</th>\n",
       "      <td>32</td>\n",
       "      <td>True</td>\n",
       "      <td>1004</td>\n",
       "      <td>True</td>\n",
       "      <td>42</td>\n",
       "      <td>-7.7</td>\n",
       "      <td>7.54</td>\n",
       "      <td>300.4</td>\n",
       "      <td>7.65</td>\n",
       "      <td>6.73</td>\n",
       "      <td>...</td>\n",
       "      <td>False</td>\n",
       "      <td>False</td>\n",
       "      <td>1</td>\n",
       "      <td>False</td>\n",
       "      <td>False</td>\n",
       "      <td>False</td>\n",
       "      <td>True</td>\n",
       "      <td>False</td>\n",
       "      <td>True</td>\n",
       "      <td>False</td>\n",
       "    </tr>\n",
       "  </tbody>\n",
       "</table>\n",
       "<p>5 rows × 24 columns</p>\n",
       "</div>"
      ],
      "text/plain": [
       "   diametro_pistao_mm  clamping_unit  horas_operacao  manutencao_realizada  \\\n",
       "0                  32          False             709                  True   \n",
       "1                  16          False             395                 False   \n",
       "2                  40          False             911                 False   \n",
       "3                  20          False            1360                  True   \n",
       "4                  32           True            1004                  True   \n",
       "\n",
       "   curso_mm  temperatura_ambiente_C  pressao_operacao_bar  \\\n",
       "0       328                    58.5                  3.87   \n",
       "1       133                   108.8                  5.28   \n",
       "2        42                    18.1                 10.00   \n",
       "3       135                    24.2                 11.15   \n",
       "4        42                    -7.7                  7.54   \n",
       "\n",
       "   velocidade_pistao_mm_s  pressao_entrada_sensor_bar  \\\n",
       "0                   950.1                        4.29   \n",
       "1                   964.6                        5.48   \n",
       "2                   860.8                       10.36   \n",
       "3                   249.1                       11.59   \n",
       "4                   300.4                        7.65   \n",
       "\n",
       "   pressao_saida_sensor_bar  ...  umidade_interna_detectada  \\\n",
       "0                      3.36  ...                       True   \n",
       "1                      5.16  ...                       True   \n",
       "2                      9.43  ...                       True   \n",
       "3                     10.80  ...                       True   \n",
       "4                      6.73  ...                      False   \n",
       "\n",
       "   desgaste_detectado  falha  tipo_amortecimento_PPS  tipo_amortecimento_PPV  \\\n",
       "0                True      1                   False                   False   \n",
       "1                True      1                   False                    True   \n",
       "2               False      1                   False                    True   \n",
       "3                True      1                   False                   False   \n",
       "4               False      1                   False                   False   \n",
       "\n",
       "   protecao_especial_Nenhuma  protecao_especial_R3  protecao_especial_R8  \\\n",
       "0                       True                 False                 False   \n",
       "1                       True                 False                 False   \n",
       "2                      False                 False                  True   \n",
       "3                      False                 False                  True   \n",
       "4                      False                  True                 False   \n",
       "\n",
       "   posicao_instalacao_Inclinada  posicao_instalacao_Vertical  \n",
       "0                          True                        False  \n",
       "1                         False                        False  \n",
       "2                         False                         True  \n",
       "3                          True                        False  \n",
       "4                          True                        False  \n",
       "\n",
       "[5 rows x 24 columns]"
      ]
     },
     "execution_count": 34,
     "metadata": {},
     "output_type": "execute_result"
    }
   ],
   "source": [
    "df_total_encoded.head()"
   ]
  },
  {
   "cell_type": "code",
   "execution_count": 36,
   "id": "f8fde944",
   "metadata": {},
   "outputs": [],
   "source": [
    "X = df_total_encoded.drop(columns = \"falha\")\n",
    "y = df_total_encoded[\"falha\"]"
   ]
  },
  {
   "cell_type": "code",
   "execution_count": 37,
   "id": "d66961bd",
   "metadata": {},
   "outputs": [],
   "source": [
    "from sklearn.model_selection import train_test_split\n",
    "X_train, X_test, y_train, y_test = train_test_split(X, y, test_size = 0.2, random_state=432, stratify= y)"
   ]
  },
  {
   "cell_type": "code",
   "execution_count": null,
   "id": "14f512ce",
   "metadata": {},
   "outputs": [],
   "source": [
    "# Concatenar treino e teste se quiser padronizar todos\n",
    "X_train_encoded = pd.get_dummies(X_train)\n",
    "X_test_encoded = pd.get_dummies(X_test)\n",
    "\n",
    "# Alinhar colunas (caso o one-hot tenha gerado colunas diferentes)\n",
    "X_train_encoded, X_test_encoded = X_train_encoded.align(X_test_encoded, join='left', axis=1, fill_value=0)"
   ]
  },
  {
   "cell_type": "code",
   "execution_count": 39,
   "id": "9a315960",
   "metadata": {},
   "outputs": [],
   "source": [
    "import xgboost as xgb\n",
    "modelo = xgb.XGBClassifier(objective='binary:logistic')  # Corrige 'object' → 'objective'\n",
    "modelo.fit(X_train, y_train)\n",
    "preds = modelo.predict(X_test)\n"
   ]
  },
  {
   "cell_type": "code",
   "execution_count": 40,
   "id": "d3669945",
   "metadata": {},
   "outputs": [
    {
     "name": "stdout",
     "output_type": "stream",
     "text": [
      "A acurácia do modelo é 99.65%\n"
     ]
    }
   ],
   "source": [
    "from sklearn.metrics import accuracy_score\n",
    "acuracia = accuracy_score(y_test, preds)\n",
    "print(f'A acurácia do modelo é {acuracia:.2%}')"
   ]
  },
  {
   "cell_type": "code",
   "execution_count": 41,
   "id": "31347c91",
   "metadata": {},
   "outputs": [
    {
     "data": {
      "text/plain": [
       "['modelo_DSNU_xgboost.pkl']"
      ]
     },
     "execution_count": 41,
     "metadata": {},
     "output_type": "execute_result"
    }
   ],
   "source": [
    "import joblib \n",
    "joblib.dump(modelo, 'modelo_DSNU_xgboost.pkl')"
   ]
  },
  {
   "cell_type": "code",
   "execution_count": 42,
   "id": "b6461a93",
   "metadata": {},
   "outputs": [
    {
     "data": {
      "image/png": "[encoded data removed]",
      "text/plain": [
       "<Figure size 640x480 with 1 Axes>"
      ]
     },
     "metadata": {},
     "output_type": "display_data"
    }
   ],
   "source": [
    "plt.hist(df_total_encoded[\"temperatura_ambiente_C\"], bins=30, edgecolor = \"black\")\n",
    "plt.title(\"Faixade temperatura\")\n",
    "plt.xlabel(\"Temperatura\")\n",
    "plt.ylabel(\"frequencia\")\n",
    "plt.show()"
   ]
  },
  {
   "cell_type": "code",
   "execution_count": 45,
   "id": "a9543e7a",
   "metadata": {},
   "outputs": [
    {
     "data": {
      "image/png": "[encoded data removed]",
      "text/plain": [
       "<Figure size 640x480 with 1 Axes>"
      ]
     },
     "metadata": {},
     "output_type": "display_data"
    }
   ],
   "source": [
    "sns.boxplot(data= df_total_encoded, y = \"temperatura_ambiente_C\",x =\"falha\", hue =\"falha\")\n",
    "plt.title(\"Faixa de temperatura por falha\")\n",
    "plt.xlabel(\"falha\")\n",
    "plt.ylabel(\"temperatura\")\n",
    "plt.show()"
   ]
  },
  {
   "cell_type": "code",
   "execution_count": 46,
   "id": "6ff63eb8",
   "metadata": {},
   "outputs": [
    {
     "data": {
      "application/vnd.plotly.v1+json": {
       "config": {
        "plotlyServerURL": "https://plot.ly"
       },
       "data": [
        {
         "bingroup": "x",
         "hovertemplate": "temperatura_ambiente_C=%{x}<br>count=%{y}<extra></extra>",
         "legendgroup": "",
         "marker": {
          "color": "#636efa",
          "pattern": {
           "shape": ""
          }
         },
         "name": "",
         "orientation": "v",
         "showlegend": false,
         "type": "histogram",
         "x": {
          "bdata": "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",
          "dtype": "f8"
         },
         "xaxis": "x",
         "yaxis": "y"
        }
       ],
       "layout": {
        "barmode": "relative",
        "legend": {
         "tracegroupgap": 0
        },
        "template": {
         "data": {
          "bar": [
           {
            "error_x": {
             "color": "#2a3f5f"
            },
            "error_y": {
             "color": "#2a3f5f"
            },
            "marker": {
             "line": {
              "color": "#E5ECF6",
              "width": 0.5
             },
             "pattern": {
              "fillmode": "overlay",
              "size": 10,
              "solidity": 0.2
             }
            },
            "type": "bar"
           }
          ],
          "barpolar": [
           {
            "marker": {
             "line": {
              "color": "#E5ECF6",
              "width": 0.5
             },
             "pattern": {
              "fillmode": "overlay",
              "size": 10,
              "solidity": 0.2
             }
            },
            "type": "barpolar"
           }
          ],
          "carpet": [
           {
            "aaxis": {
             "endlinecolor": "#2a3f5f",
             "gridcolor": "white",
             "linecolor": "white",
             "minorgridcolor": "white",
             "startlinecolor": "#2a3f5f"
            },
            "baxis": {
             "endlinecolor": "#2a3f5f",
             "gridcolor": "white",
             "linecolor": "white",
             "minorgridcolor": "white",
             "startlinecolor": "#2a3f5f"
            },
            "type": "carpet"
           }
          ],
          "choropleth": [
           {
            "colorbar": {
             "outlinewidth": 0,
             "ticks": ""
            },
            "type": "choropleth"
           }
          ],
          "contour": [
           {
            "colorbar": {
             "outlinewidth": 0,
             "ticks": ""
            },
            "colorscale": [
             [
              0,
              "#0d0887"
             ],
             [
              0.1111111111111111,
              "#46039f"
             ],
             [
              0.2222222222222222,
              "#7201a8"
             ],
             [
              0.3333333333333333,
              "#9c179e"
             ],
             [
              0.4444444444444444,
              "#bd3786"
             ],
             [
              0.5555555555555556,
              "#d8576b"
             ],
             [
              0.6666666666666666,
              "#ed7953"
             ],
             [
              0.7777777777777778,
              "#fb9f3a"
             ],
             [
              0.8888888888888888,
              "#fdca26"
             ],
             [
              1,
              "#f0f921"
             ]
            ],
            "type": "contour"
           }
          ],
          "contourcarpet": [
           {
            "colorbar": {
             "outlinewidth": 0,
             "ticks": ""
            },
            "type": "contourcarpet"
           }
          ],
          "heatmap": [
           {
            "colorbar": {
             "outlinewidth": 0,
             "ticks": ""
            },
            "colorscale": [
             [
              0,
              "#0d0887"
             ],
             [
              0.1111111111111111,
              "#46039f"
             ],
             [
              0.2222222222222222,
              "#7201a8"
             ],
             [
              0.3333333333333333,
              "#9c179e"
             ],
             [
              0.4444444444444444,
              "#bd3786"
             ],
             [
              0.5555555555555556,
              "#d8576b"
             ],
             [
              0.6666666666666666,
              "#ed7953"
             ],
             [
              0.7777777777777778,
              "#fb9f3a"
             ],
             [
              0.8888888888888888,
              "#fdca26"
             ],
             [
              1,
              "#f0f921"
             ]
            ],
            "type": "heatmap"
           }
          ],
          "histogram": [
           {
            "marker": {
             "pattern": {
              "fillmode": "overlay",
              "size": 10,
              "solidity": 0.2
             }
            },
            "type": "histogram"
           }
          ],
          "histogram2d": [
           {
            "colorbar": {
             "outlinewidth": 0,
             "ticks": ""
            },
            "colorscale": [
             [
              0,
              "#0d0887"
             ],
             [
              0.1111111111111111,
              "#46039f"
             ],
             [
              0.2222222222222222,
              "#7201a8"
             ],
             [
              0.3333333333333333,
              "#9c179e"
             ],
             [
              0.4444444444444444,
              "#bd3786"
             ],
             [
              0.5555555555555556,
              "#d8576b"
             ],
             [
              0.6666666666666666,
              "#ed7953"
             ],
             [
              0.7777777777777778,
              "#fb9f3a"
             ],
             [
              0.8888888888888888,
              "#fdca26"
             ],
             [
              1,
              "#f0f921"
             ]
            ],
            "type": "histogram2d"
           }
          ],
          "histogram2dcontour": [
           {
            "colorbar": {
             "outlinewidth": 0,
             "ticks": ""
            },
            "colorscale": [
             [
              0,
              "#0d0887"
             ],
             [
              0.1111111111111111,
              "#46039f"
             ],
             [
              0.2222222222222222,
              "#7201a8"
             ],
             [
              0.3333333333333333,
              "#9c179e"
             ],
             [
              0.4444444444444444,
              "#bd3786"
             ],
             [
              0.5555555555555556,
              "#d8576b"
             ],
             [
              0.6666666666666666,
              "#ed7953"
             ],
             [
              0.7777777777777778,
              "#fb9f3a"
             ],
             [
              0.8888888888888888,
              "#fdca26"
             ],
             [
              1,
              "#f0f921"
             ]
            ],
            "type": "histogram2dcontour"
           }
          ],
          "mesh3d": [
           {
            "colorbar": {
             "outlinewidth": 0,
             "ticks": ""
            },
            "type": "mesh3d"
           }
          ],
          "parcoords": [
           {
            "line": {
             "colorbar": {
              "outlinewidth": 0,
              "ticks": ""
             }
            },
            "type": "parcoords"
           }
          ],
          "pie": [
           {
            "automargin": true,
            "type": "pie"
           }
          ],
          "scatter": [
           {
            "fillpattern": {
             "fillmode": "overlay",
             "size": 10,
             "solidity": 0.2
            },
            "type": "scatter"
           }
          ],
          "scatter3d": [
           {
            "line": {
             "colorbar": {
              "outlinewidth": 0,
              "ticks": ""
             }
            },
            "marker": {
             "colorbar": {
              "outlinewidth": 0,
              "ticks": ""
             }
            },
            "type": "scatter3d"
           }
          ],
          "scattercarpet": [
           {
            "marker": {
             "colorbar": {
              "outlinewidth": 0,
              "ticks": ""
             }
            },
            "type": "scattercarpet"
           }
          ],
          "scattergeo": [
           {
            "marker": {
             "colorbar": {
              "outlinewidth": 0,
              "ticks": ""
             }
            },
            "type": "scattergeo"
           }
          ],
          "scattergl": [
           {
            "marker": {
             "colorbar": {
              "outlinewidth": 0,
              "ticks": ""
             }
            },
            "type": "scattergl"
           }
          ],
          "scattermap": [
           {
            "marker": {
             "colorbar": {
              "outlinewidth": 0,
              "ticks": ""
             }
            },
            "type": "scattermap"
           }
          ],
          "scattermapbox": [
           {
            "marker": {
             "colorbar": {
              "outlinewidth": 0,
              "ticks": ""
             }
            },
            "type": "scattermapbox"
           }
          ],
          "scatterpolar": [
           {
            "marker": {
             "colorbar": {
              "outlinewidth": 0,
              "ticks": ""
             }
            },
            "type": "scatterpolar"
           }
          ],
          "scatterpolargl": [
           {
            "marker": {
             "colorbar": {
              "outlinewidth": 0,
              "ticks": ""
             }
            },
            "type": "scatterpolargl"
           }
          ],
          "scatterternary": [
           {
            "marker": {
             "colorbar": {
              "outlinewidth": 0,
              "ticks": ""
             }
            },
            "type": "scatterternary"
           }
          ],
          "surface": [
           {
            "colorbar": {
             "outlinewidth": 0,
             "ticks": ""
            },
            "colorscale": [
             [
              0,
              "#0d0887"
             ],
             [
              0.1111111111111111,
              "#46039f"
             ],
             [
              0.2222222222222222,
              "#7201a8"
             ],
             [
              0.3333333333333333,
              "#9c179e"
             ],
             [
              0.4444444444444444,
              "#bd3786"
             ],
             [
              0.5555555555555556,
              "#d8576b"
             ],
             [
              0.6666666666666666,
              "#ed7953"
             ],
             [
              0.7777777777777778,
              "#fb9f3a"
             ],
             [
              0.8888888888888888,
              "#fdca26"
             ],
             [
              1,
              "#f0f921"
             ]
            ],
            "type": "surface"
           }
          ],
          "table": [
           {
            "cells": {
             "fill": {
              "color": "#EBF0F8"
             },
             "line": {
              "color": "white"
             }
            },
            "header": {
             "fill": {
              "color": "#C8D4E3"
             },
             "line": {
              "color": "white"
             }
            },
            "type": "table"
           }
          ]
         },
         "layout": {
          "annotationdefaults": {
           "arrowcolor": "#2a3f5f",
           "arrowhead": 0,
           "arrowwidth": 1
          },
          "autotypenumbers": "strict",
          "coloraxis": {
           "colorbar": {
            "outlinewidth": 0,
            "ticks": ""
           }
          },
          "colorscale": {
           "diverging": [
            [
             0,
             "#8e0152"
            ],
            [
             0.1,
             "#c51b7d"
            ],
            [
             0.2,
             "#de77ae"
            ],
            [
             0.3,
             "#f1b6da"
            ],
            [
             0.4,
             "#fde0ef"
            ],
            [
             0.5,
             "#f7f7f7"
            ],
            [
             0.6,
             "#e6f5d0"
            ],
            [
             0.7,
             "#b8e186"
            ],
            [
             0.8,
             "#7fbc41"
            ],
            [
             0.9,
             "#4d9221"
            ],
            [
             1,
             "#276419"
            ]
           ],
           "sequential": [
            [
             0,
             "#0d0887"
            ],
            [
             0.1111111111111111,
             "#46039f"
            ],
            [
             0.2222222222222222,
             "#7201a8"
            ],
            [
             0.3333333333333333,
             "#9c179e"
            ],
            [
             0.4444444444444444,
             "#bd3786"
            ],
            [
             0.5555555555555556,
             "#d8576b"
            ],
            [
             0.6666666666666666,
             "#ed7953"
            ],
            [
             0.7777777777777778,
             "#fb9f3a"
            ],
            [
             0.8888888888888888,
             "#fdca26"
            ],
            [
             1,
             "#f0f921"
            ]
           ],
           "sequentialminus": [
            [
             0,
             "#0d0887"
            ],
            [
             0.1111111111111111,
             "#46039f"
            ],
            [
             0.2222222222222222,
             "#7201a8"
            ],
            [
             0.3333333333333333,
             "#9c179e"
            ],
            [
             0.4444444444444444,
             "#bd3786"
            ],
            [
             0.5555555555555556,
             "#d8576b"
            ],
            [
             0.6666666666666666,
             "#ed7953"
            ],
            [
             0.7777777777777778,
             "#fb9f3a"
            ],
            [
             0.8888888888888888,
             "#fdca26"
            ],
            [
             1,
             "#f0f921"
            ]
           ]
          },
          "colorway": [
           "#636efa",
           "#EF553B",
           "#00cc96",
           "#ab63fa",
           "#FFA15A",
           "#19d3f3",
           "#FF6692",
           "#B6E880",
           "#FF97FF",
           "#FECB52"
          ],
          "font": {
           "color": "#2a3f5f"
          },
          "geo": {
           "bgcolor": "white",
           "lakecolor": "white",
           "landcolor": "#E5ECF6",
           "showlakes": true,
           "showland": true,
           "subunitcolor": "white"
          },
          "hoverlabel": {
           "align": "left"
          },
          "hovermode": "closest",
          "mapbox": {
           "style": "light"
          },
          "paper_bgcolor": "white",
          "plot_bgcolor": "#E5ECF6",
          "polar": {
           "angularaxis": {
            "gridcolor": "white",
            "linecolor": "white",
            "ticks": ""
           },
           "bgcolor": "#E5ECF6",
           "radialaxis": {
            "gridcolor": "white",
            "linecolor": "white",
            "ticks": ""
           }
          },
          "scene": {
           "xaxis": {
            "backgroundcolor": "#E5ECF6",
            "gridcolor": "white",
            "gridwidth": 2,
            "linecolor": "white",
            "showbackground": true,
            "ticks": "",
            "zerolinecolor": "white"
           },
           "yaxis": {
            "backgroundcolor": "#E5ECF6",
            "gridcolor": "white",
            "gridwidth": 2,
            "linecolor": "white",
            "showbackground": true,
            "ticks": "",
            "zerolinecolor": "white"
           },
           "zaxis": {
            "backgroundcolor": "#E5ECF6",
            "gridcolor": "white",
            "gridwidth": 2,
            "linecolor": "white",
            "showbackground": true,
            "ticks": "",
            "zerolinecolor": "white"
           }
          },
          "shapedefaults": {
           "line": {
            "color": "#2a3f5f"
           }
          },
          "ternary": {
           "aaxis": {
            "gridcolor": "white",
            "linecolor": "white",
            "ticks": ""
           },
           "baxis": {
            "gridcolor": "white",
            "linecolor": "white",
            "ticks": ""
           },
           "bgcolor": "#E5ECF6",
           "caxis": {
            "gridcolor": "white",
            "linecolor": "white",
            "ticks": ""
           }
          },
          "title": {
           "x": 0.05
          },
          "xaxis": {
           "automargin": true,
           "gridcolor": "white",
           "linecolor": "white",
           "ticks": "",
           "title": {
            "standoff": 15
           },
           "zerolinecolor": "white",
           "zerolinewidth": 2
          },
          "yaxis": {
           "automargin": true,
           "gridcolor": "white",
           "linecolor": "white",
           "ticks": "",
           "title": {
            "standoff": 15
           },
           "zerolinecolor": "white",
           "zerolinewidth": 2
          }
         }
        },
        "title": {
         "text": "Distribuição de temperatura"
        },
        "xaxis": {
         "anchor": "y",
         "domain": [
          0,
          1
         ],
         "title": {
          "text": "temperatura_ambiente_C"
         }
        },
        "yaxis": {
         "anchor": "x",
         "domain": [
          0,
          1
         ],
         "title": {
          "text": "count"
         }
        }
       }
      }
     },
     "metadata": {},
     "output_type": "display_data"
    }
   ],
   "source": [
    "px.histogram(df_total_encoded, x=\"temperatura_ambiente_C\", title = \"Distribuição de temperatura\")"
   ]
  },
  {
   "cell_type": "code",
   "execution_count": 48,
   "id": "99b75881",
   "metadata": {},
   "outputs": [
    {
     "name": "stdout",
     "output_type": "stream",
     "text": [
      "[0 0 0 0 1 0 0 0 0 0]\n"
     ]
    }
   ],
   "source": [
    "# Carregar o modelo\n",
    "modelo_carregado = joblib.load('modelo_DSNU_xgboost.pkl')\n",
    "\n",
    "# Fazer previsões novamente com os dados de teste\n",
    "predicoes = modelo_carregado.predict(X_test)\n",
    "\n",
    "# Ver resultado\n",
    "print(predicoes[:10])\n"
   ]
  },
  {
   "cell_type": "code",
   "execution_count": 50,
   "id": "4da97aca",
   "metadata": {},
   "outputs": [
    {
     "data": {
      "text/html": [
       "<div>\n",
       "<style scoped>\n",
       "    .dataframe tbody tr th:only-of-type {\n",
       "        vertical-align: middle;\n",
       "    }\n",
       "\n",
       "    .dataframe tbody tr th {\n",
       "        vertical-align: top;\n",
       "    }\n",
       "\n",
       "    .dataframe thead th {\n",
       "        text-align: right;\n",
       "    }\n",
       "</style>\n",
       "<table border=\"1\" class=\"dataframe\">\n",
       "  <thead>\n",
       "    <tr style=\"text-align: right;\">\n",
       "      <th></th>\n",
       "      <th>diametro_pistao_mm</th>\n",
       "      <th>clamping_unit</th>\n",
       "      <th>horas_operacao</th>\n",
       "      <th>manutencao_realizada</th>\n",
       "      <th>curso_mm</th>\n",
       "      <th>temperatura_ambiente_C</th>\n",
       "      <th>pressao_operacao_bar</th>\n",
       "      <th>velocidade_pistao_mm_s</th>\n",
       "      <th>pressao_entrada_sensor_bar</th>\n",
       "      <th>pressao_saida_sensor_bar</th>\n",
       "      <th>...</th>\n",
       "      <th>vazamento_detectado</th>\n",
       "      <th>umidade_interna_detectada</th>\n",
       "      <th>desgaste_detectado</th>\n",
       "      <th>tipo_amortecimento_PPS</th>\n",
       "      <th>tipo_amortecimento_PPV</th>\n",
       "      <th>protecao_especial_Nenhuma</th>\n",
       "      <th>protecao_especial_R3</th>\n",
       "      <th>protecao_especial_R8</th>\n",
       "      <th>posicao_instalacao_Inclinada</th>\n",
       "      <th>posicao_instalacao_Vertical</th>\n",
       "    </tr>\n",
       "  </thead>\n",
       "  <tbody>\n",
       "    <tr>\n",
       "      <th>7784</th>\n",
       "      <td>63</td>\n",
       "      <td>True</td>\n",
       "      <td>871</td>\n",
       "      <td>True</td>\n",
       "      <td>165</td>\n",
       "      <td>54.5</td>\n",
       "      <td>4.50</td>\n",
       "      <td>170.9</td>\n",
       "      <td>4.69</td>\n",
       "      <td>4.558</td>\n",
       "      <td>...</td>\n",
       "      <td>False</td>\n",
       "      <td>False</td>\n",
       "      <td>False</td>\n",
       "      <td>True</td>\n",
       "      <td>False</td>\n",
       "      <td>True</td>\n",
       "      <td>False</td>\n",
       "      <td>False</td>\n",
       "      <td>False</td>\n",
       "      <td>False</td>\n",
       "    </tr>\n",
       "    <tr>\n",
       "      <th>2056</th>\n",
       "      <td>20</td>\n",
       "      <td>False</td>\n",
       "      <td>579</td>\n",
       "      <td>True</td>\n",
       "      <td>240</td>\n",
       "      <td>31.3</td>\n",
       "      <td>5.90</td>\n",
       "      <td>590.7</td>\n",
       "      <td>5.96</td>\n",
       "      <td>5.767</td>\n",
       "      <td>...</td>\n",
       "      <td>False</td>\n",
       "      <td>False</td>\n",
       "      <td>False</td>\n",
       "      <td>False</td>\n",
       "      <td>False</td>\n",
       "      <td>True</td>\n",
       "      <td>False</td>\n",
       "      <td>False</td>\n",
       "      <td>True</td>\n",
       "      <td>False</td>\n",
       "    </tr>\n",
       "    <tr>\n",
       "      <th>6042</th>\n",
       "      <td>32</td>\n",
       "      <td>False</td>\n",
       "      <td>172</td>\n",
       "      <td>True</td>\n",
       "      <td>67</td>\n",
       "      <td>6.2</td>\n",
       "      <td>9.49</td>\n",
       "      <td>573.5</td>\n",
       "      <td>9.49</td>\n",
       "      <td>9.462</td>\n",
       "      <td>...</td>\n",
       "      <td>False</td>\n",
       "      <td>False</td>\n",
       "      <td>False</td>\n",
       "      <td>True</td>\n",
       "      <td>False</td>\n",
       "      <td>True</td>\n",
       "      <td>False</td>\n",
       "      <td>False</td>\n",
       "      <td>True</td>\n",
       "      <td>False</td>\n",
       "    </tr>\n",
       "    <tr>\n",
       "      <th>1137</th>\n",
       "      <td>10</td>\n",
       "      <td>False</td>\n",
       "      <td>329</td>\n",
       "      <td>True</td>\n",
       "      <td>52</td>\n",
       "      <td>44.4</td>\n",
       "      <td>6.92</td>\n",
       "      <td>228.1</td>\n",
       "      <td>6.92</td>\n",
       "      <td>6.770</td>\n",
       "      <td>...</td>\n",
       "      <td>False</td>\n",
       "      <td>False</td>\n",
       "      <td>False</td>\n",
       "      <td>False</td>\n",
       "      <td>False</td>\n",
       "      <td>True</td>\n",
       "      <td>False</td>\n",
       "      <td>False</td>\n",
       "      <td>False</td>\n",
       "      <td>True</td>\n",
       "    </tr>\n",
       "    <tr>\n",
       "      <th>923</th>\n",
       "      <td>50</td>\n",
       "      <td>True</td>\n",
       "      <td>466</td>\n",
       "      <td>True</td>\n",
       "      <td>395</td>\n",
       "      <td>96.2</td>\n",
       "      <td>2.88</td>\n",
       "      <td>925.9</td>\n",
       "      <td>3.12</td>\n",
       "      <td>2.780</td>\n",
       "      <td>...</td>\n",
       "      <td>False</td>\n",
       "      <td>True</td>\n",
       "      <td>True</td>\n",
       "      <td>False</td>\n",
       "      <td>False</td>\n",
       "      <td>False</td>\n",
       "      <td>False</td>\n",
       "      <td>True</td>\n",
       "      <td>False</td>\n",
       "      <td>False</td>\n",
       "    </tr>\n",
       "    <tr>\n",
       "      <th>8997</th>\n",
       "      <td>40</td>\n",
       "      <td>False</td>\n",
       "      <td>516</td>\n",
       "      <td>True</td>\n",
       "      <td>317</td>\n",
       "      <td>12.4</td>\n",
       "      <td>1.23</td>\n",
       "      <td>129.7</td>\n",
       "      <td>1.25</td>\n",
       "      <td>1.138</td>\n",
       "      <td>...</td>\n",
       "      <td>False</td>\n",
       "      <td>False</td>\n",
       "      <td>False</td>\n",
       "      <td>False</td>\n",
       "      <td>True</td>\n",
       "      <td>True</td>\n",
       "      <td>False</td>\n",
       "      <td>False</td>\n",
       "      <td>False</td>\n",
       "      <td>True</td>\n",
       "    </tr>\n",
       "    <tr>\n",
       "      <th>9530</th>\n",
       "      <td>50</td>\n",
       "      <td>False</td>\n",
       "      <td>500</td>\n",
       "      <td>True</td>\n",
       "      <td>309</td>\n",
       "      <td>19.3</td>\n",
       "      <td>4.76</td>\n",
       "      <td>630.4</td>\n",
       "      <td>4.78</td>\n",
       "      <td>4.519</td>\n",
       "      <td>...</td>\n",
       "      <td>False</td>\n",
       "      <td>False</td>\n",
       "      <td>False</td>\n",
       "      <td>False</td>\n",
       "      <td>False</td>\n",
       "      <td>True</td>\n",
       "      <td>False</td>\n",
       "      <td>False</td>\n",
       "      <td>False</td>\n",
       "      <td>False</td>\n",
       "    </tr>\n",
       "    <tr>\n",
       "      <th>9647</th>\n",
       "      <td>50</td>\n",
       "      <td>True</td>\n",
       "      <td>903</td>\n",
       "      <td>True</td>\n",
       "      <td>478</td>\n",
       "      <td>30.2</td>\n",
       "      <td>1.54</td>\n",
       "      <td>466.3</td>\n",
       "      <td>1.57</td>\n",
       "      <td>1.327</td>\n",
       "      <td>...</td>\n",
       "      <td>False</td>\n",
       "      <td>False</td>\n",
       "      <td>False</td>\n",
       "      <td>False</td>\n",
       "      <td>True</td>\n",
       "      <td>False</td>\n",
       "      <td>True</td>\n",
       "      <td>False</td>\n",
       "      <td>True</td>\n",
       "      <td>False</td>\n",
       "    </tr>\n",
       "    <tr>\n",
       "      <th>4589</th>\n",
       "      <td>32</td>\n",
       "      <td>False</td>\n",
       "      <td>399</td>\n",
       "      <td>True</td>\n",
       "      <td>121</td>\n",
       "      <td>35.6</td>\n",
       "      <td>5.03</td>\n",
       "      <td>165.7</td>\n",
       "      <td>5.12</td>\n",
       "      <td>4.726</td>\n",
       "      <td>...</td>\n",
       "      <td>False</td>\n",
       "      <td>False</td>\n",
       "      <td>False</td>\n",
       "      <td>False</td>\n",
       "      <td>False</td>\n",
       "      <td>True</td>\n",
       "      <td>False</td>\n",
       "      <td>False</td>\n",
       "      <td>False</td>\n",
       "      <td>False</td>\n",
       "    </tr>\n",
       "    <tr>\n",
       "      <th>4883</th>\n",
       "      <td>25</td>\n",
       "      <td>False</td>\n",
       "      <td>1032</td>\n",
       "      <td>True</td>\n",
       "      <td>217</td>\n",
       "      <td>29.1</td>\n",
       "      <td>7.97</td>\n",
       "      <td>341.1</td>\n",
       "      <td>8.07</td>\n",
       "      <td>7.691</td>\n",
       "      <td>...</td>\n",
       "      <td>False</td>\n",
       "      <td>False</td>\n",
       "      <td>False</td>\n",
       "      <td>True</td>\n",
       "      <td>False</td>\n",
       "      <td>True</td>\n",
       "      <td>False</td>\n",
       "      <td>False</td>\n",
       "      <td>False</td>\n",
       "      <td>True</td>\n",
       "    </tr>\n",
       "  </tbody>\n",
       "</table>\n",
       "<p>10 rows × 23 columns</p>\n",
       "</div>"
      ],
      "text/plain": [
       "      diametro_pistao_mm  clamping_unit  horas_operacao  manutencao_realizada  \\\n",
       "7784                  63           True             871                  True   \n",
       "2056                  20          False             579                  True   \n",
       "6042                  32          False             172                  True   \n",
       "1137                  10          False             329                  True   \n",
       "923                   50           True             466                  True   \n",
       "8997                  40          False             516                  True   \n",
       "9530                  50          False             500                  True   \n",
       "9647                  50           True             903                  True   \n",
       "4589                  32          False             399                  True   \n",
       "4883                  25          False            1032                  True   \n",
       "\n",
       "      curso_mm  temperatura_ambiente_C  pressao_operacao_bar  \\\n",
       "7784       165                    54.5                  4.50   \n",
       "2056       240                    31.3                  5.90   \n",
       "6042        67                     6.2                  9.49   \n",
       "1137        52                    44.4                  6.92   \n",
       "923        395                    96.2                  2.88   \n",
       "8997       317                    12.4                  1.23   \n",
       "9530       309                    19.3                  4.76   \n",
       "9647       478                    30.2                  1.54   \n",
       "4589       121                    35.6                  5.03   \n",
       "4883       217                    29.1                  7.97   \n",
       "\n",
       "      velocidade_pistao_mm_s  pressao_entrada_sensor_bar  \\\n",
       "7784                   170.9                        4.69   \n",
       "2056                   590.7                        5.96   \n",
       "6042                   573.5                        9.49   \n",
       "1137                   228.1                        6.92   \n",
       "923                    925.9                        3.12   \n",
       "8997                   129.7                        1.25   \n",
       "9530                   630.4                        4.78   \n",
       "9647                   466.3                        1.57   \n",
       "4589                   165.7                        5.12   \n",
       "4883                   341.1                        8.07   \n",
       "\n",
       "      pressao_saida_sensor_bar  ...  vazamento_detectado  \\\n",
       "7784                     4.558  ...                False   \n",
       "2056                     5.767  ...                False   \n",
       "6042                     9.462  ...                False   \n",
       "1137                     6.770  ...                False   \n",
       "923                      2.780  ...                False   \n",
       "8997                     1.138  ...                False   \n",
       "9530                     4.519  ...                False   \n",
       "9647                     1.327  ...                False   \n",
       "4589                     4.726  ...                False   \n",
       "4883                     7.691  ...                False   \n",
       "\n",
       "      umidade_interna_detectada  desgaste_detectado  tipo_amortecimento_PPS  \\\n",
       "7784                      False               False                    True   \n",
       "2056                      False               False                   False   \n",
       "6042                      False               False                    True   \n",
       "1137                      False               False                   False   \n",
       "923                        True                True                   False   \n",
       "8997                      False               False                   False   \n",
       "9530                      False               False                   False   \n",
       "9647                      False               False                   False   \n",
       "4589                      False               False                   False   \n",
       "4883                      False               False                    True   \n",
       "\n",
       "      tipo_amortecimento_PPV  protecao_especial_Nenhuma  protecao_especial_R3  \\\n",
       "7784                   False                       True                 False   \n",
       "2056                   False                       True                 False   \n",
       "6042                   False                       True                 False   \n",
       "1137                   False                       True                 False   \n",
       "923                    False                      False                 False   \n",
       "8997                    True                       True                 False   \n",
       "9530                   False                       True                 False   \n",
       "9647                    True                      False                  True   \n",
       "4589                   False                       True                 False   \n",
       "4883                   False                       True                 False   \n",
       "\n",
       "      protecao_especial_R8  posicao_instalacao_Inclinada  \\\n",
       "7784                 False                         False   \n",
       "2056                 False                          True   \n",
       "6042                 False                          True   \n",
       "1137                 False                         False   \n",
       "923                   True                         False   \n",
       "8997                 False                         False   \n",
       "9530                 False                         False   \n",
       "9647                 False                          True   \n",
       "4589                 False                         False   \n",
       "4883                 False                         False   \n",
       "\n",
       "      posicao_instalacao_Vertical  \n",
       "7784                        False  \n",
       "2056                        False  \n",
       "6042                        False  \n",
       "1137                         True  \n",
       "923                         False  \n",
       "8997                         True  \n",
       "9530                        False  \n",
       "9647                        False  \n",
       "4589                        False  \n",
       "4883                         True  \n",
       "\n",
       "[10 rows x 23 columns]"
      ]
     },
     "execution_count": 50,
     "metadata": {},
     "output_type": "execute_result"
    }
   ],
   "source": [
    "X_test.head(10)"
   ]
  }
 ],
 "metadata": {
  "kernelspec": {
   "display_name": ".venv",
   "language": "python",
   "name": "python3"
  },
  "language_info": {
   "codemirror_mode": {
    "name": "ipython",
    "version": 3
   },
   "file_extension": ".py",
   "mimetype": "text/x-python",
   "name": "python",
   "nbconvert_exporter": "python",
   "pygments_lexer": "ipython3",
   "version": "3.13.3"
  }
 },
 "nbformat": 4,
 "nbformat_minor": 5
}
