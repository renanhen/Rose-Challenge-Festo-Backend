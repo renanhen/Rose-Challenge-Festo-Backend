{
 "cells": [
  {
   "cell_type": "code",
   "execution_count": null,
   "id": "6037b523",
   "metadata": {},
   "outputs": [],
   "source": [
    "limites = {\n",
    "    \"pressao_entrada_sensor_bar\": (1,10),\n",
    "    \"pressao_saida_sensor_bar\":(1,10),\n",
    "    \"temperatura_ambiente_C\":(-20, 80),\n",
    "    \"umidade_pct\":(0, 90),\n",
    "    \"vibracao_mm_s\":(0, 7),\n",
    "    \"tempo_ciclo_ms\": (50, 500)\n",
    "}"
   ]
  },
  {
   "cell_type": "code",
   "execution_count": 14,
   "id": "cafb82f7",
   "metadata": {},
   "outputs": [
    {
     "name": "stdout",
     "output_type": "stream",
     "text": [
      "('FALHA', ['Temperatura fora do limite', 'Vibração em alerta'])\n"
     ]
    }
   ],
   "source": [
    "\n",
    "\n",
    "\n",
    "def verificar_status(data):\n",
    "    problemas = []\n",
    "\n",
    "     # Pressões\n",
    "    if not (limites[\"pressao_entrada_sensor_bar\"][0] <= data[\"pressao_entrada_sensor_bar\"] <= limites[\"pressao_entrada_sensor_bar\"][1]):\n",
    "        problemas.append('Pressão de entrada fora do limite')\n",
    "    if not (limites[\"pressao_saida_sensor_bar\"][0] <= data[\"pressao_saida_sensor_bar\"] <= limites[\"pressao_saida_sensor_bar\"][1]):\n",
    "        problemas.append('Pressão de saída fora do limite')\n",
    "\n",
    "    # Temperatura\n",
    "    if not (limites[\"temperatura_ambiente_C\"][0] <= data[\"temperatura_ambiente_C\"] <= limites[\"temperatura_ambiente_C\"][1]):\n",
    "        problemas.append('Temperatura fora do limite')\n",
    "\n",
    "    # Umidade\n",
    "    if data[\"umidade_pct\"] > limites[\"umidade_pct\"][1]:\n",
    "        problemas.append('Umidade acima do permitido')\n",
    "\n",
    "    # Vibração\n",
    "    if data[\"vibracao_mm_s\"] > 10:\n",
    "        problemas.append('Vibração crítica')\n",
    "    elif data[\"vibracao_mm_s\"] > 7:\n",
    "        problemas.append('Vibração em alerta')\n",
    "\n",
    "    # Tempo de ciclo\n",
    "    if not (limites[\"tempo_ciclo_ms\"][0] <= data[\"tempo_ciclo_ms\"] <= limites[\"tempo_ciclo_ms\"][1]):\n",
    "        problemas.append('Tempo de ciclo fora do limite')\n",
    "\n",
    "    if any(\"critica\" in p or \"fora\" in p or \"umidade\" in p for p in problemas):\n",
    "        status = \"FALHA\"\n",
    "    elif any(\"alerta\" in p for p in problemas):\n",
    "        status = \"ALERTA\"\n",
    "    else:\n",
    "        status = \"OK\"\n",
    "\n",
    "    return status, problemas\n",
    "\n",
    "dados = {\n",
    "    'pressao_entrada_sensor_bar': 6.2,\n",
    "    'pressao_saida_sensor_bar': 5.8,\n",
    "    'temperatura_ambiente_C': 200,\n",
    "    'umidade_pct': 40.0,\n",
    "    'vibracao_mm_s': 8,\n",
    "    'posicao_pistao': \"fim\",\n",
    "    'tempo_ciclo_ms': 220.0,\n",
    "}\n",
    "\n",
    "print(verificar_status(dados))\n",
    "# Saída: \"OK\"\n"
   ]
  },
  {
   "cell_type": "code",
   "execution_count": null,
   "id": "bad1a833",
   "metadata": {},
   "outputs": [],
   "source": []
  }
 ],
 "metadata": {
  "kernelspec": {
   "display_name": ".venv",
   "language": "python",
   "name": "python3"
  },
  "language_info": {
   "codemirror_mode": {
    "name": "ipython",
    "version": 3
   },
   "file_extension": ".py",
   "mimetype": "text/x-python",
   "name": "python",
   "nbconvert_exporter": "python",
   "pygments_lexer": "ipython3",
   "version": "3.13.3"
  }
 },
 "nbformat": 4,
 "nbformat_minor": 5
}
